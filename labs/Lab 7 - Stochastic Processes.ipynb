{
 "cells": [
  {
   "cell_type": "markdown",
   "metadata": {},
   "source": [
    "# Symbulate Lab 7 - Stochastic Processes"
   ]
  },
  {
   "cell_type": "markdown",
   "metadata": {},
   "source": [
    "This Jupyter notebook provides a template for you to fill in.  Read the notebook from start to finish, completing the parts as indicated.  To run a cell, make sure the cell is highlighted by clicking on it, then press SHIFT + ENTER on your keyboard.  (Alternatively, you can click the \"play\" button in the toolbar above.)"
   ]
  },
  {
   "cell_type": "markdown",
   "metadata": {},
   "source": [
    "In this lab you will use the Symbulate package.  Many of the new commands are discussed in the [Random processes](https://dlsun.github.io/symbulate/process.html) section of the [Symbulate documentation](https://dlsun.github.io/symbulate/index.html). **You should use Symbulate commands whenever possible.**  If you find yourself writing long blocks of Python code, you are probably doing something wrong.  For example, you should not need to write any *long* `for` loops (though you will need to write a simple `for` loop in Problem 1 part a).\n",
    "\n",
    "There are 2 parts, and at the end of each part there are some reflection questions.  There is no need to type a response to the reflection questions, but you should think about them and discuss them with your partner to try to make sense of your simulation results.\n",
    "\n",
    "**Warning:** You may notice that many of the cells in this notebook are not editable. This is intentional and for your own safety. We have made these cells read-only so that you don't accidentally modify or delete them. However, you should still be able to execute the code in these cells."
   ]
  },
  {
   "cell_type": "code",
   "execution_count": 1,
   "metadata": {},
   "outputs": [],
   "source": [
    "from symbulate import *\n",
    "%matplotlib inline"
   ]
  },
  {
   "cell_type": "markdown",
   "metadata": {},
   "source": [
    "## Problem 1.\n",
    "\n",
    "Here is one example of a discrete time, continuous state process.  Suppose that $X_0 = 0$ and for $n = 0, 1, 2, \\ldots$,\n",
    "$$\n",
    "X_{n+1} = 0.5 X_n + Z_{n}\n",
    "$$\n",
    "where $Z_1, Z_2, \\ldots$ are i.i.d. $N(0,1)$.  Such a process is called an *autoregressive* process (of order 1)."
   ]
  },
  {
   "cell_type": "markdown",
   "metadata": {},
   "source": [
    "### a)\n",
    "\n",
    "Define in Symbulate the $X$ process, for time steps $n= 0, 1,2, \\ldots, 20$.  Hint: [this example](https://dlsun.github.io/symbulate/process.html#rw) should be very helpful.\n",
    "\n",
    "- Define a probability space `P` corresponding to an infinite sequence of i.i.d. $N(0, 1)$ values.  (Hint: [bottom of this page](https://dlsun.github.io/symbulate/probspace.html#indep).)\n",
    "- Define an `RV` `Z` on the probability space `P`; each component of `Z` can be indexed with brackets `[]` , e.g. `Z[0]`, `Z[1]`, etc.\n",
    "- Define a [`RandomProcess`](https://dlsun.github.io/symbulate/process.html#time) `X` on `P`.\n",
    "Write a simple `for` loop to define the value of `X[n+1]` based `X[n]` and `Z[n]`."
   ]
  },
  {
   "cell_type": "code",
   "execution_count": 2,
   "metadata": {},
   "outputs": [],
   "source": [
    "# Type all of your code for this problem in this cell.\n",
    "# Feel free to add additional cells for scratch work, but they will not be graded."
   ]
  },
  {
   "cell_type": "markdown",
   "metadata": {},
   "source": [
    "### b)\n",
    "\n",
    "Simulate and plot a single sample path for n= 0, ..., 20.  (Hint: [see the plots here](https://dlsun.github.io/symbulate/process.html#Xt).  You might need to change `alpha = ` if the plot is too light.)"
   ]
  },
  {
   "cell_type": "code",
   "execution_count": 3,
   "metadata": {},
   "outputs": [],
   "source": [
    "# Type all of your code for this problem in this cell.\n",
    "# Feel free to add additional cells for scratch work, but they will not be graded."
   ]
  },
  {
   "cell_type": "markdown",
   "metadata": {},
   "source": [
    "### c)\n",
    "\n",
    "Simulate and plot 100 sample paths."
   ]
  },
  {
   "cell_type": "code",
   "execution_count": 4,
   "metadata": {},
   "outputs": [],
   "source": [
    "# Type all of your code for this problem in this cell.\n",
    "# Feel free to add additional cells for scratch work, but they will not be graded."
   ]
  },
  {
   "cell_type": "markdown",
   "metadata": {},
   "source": [
    "### d)\n",
    "\n",
    "Simulate and plot the distribution of $X_5$, and approximate its mean and variance.  ([Hint](https://dlsun.github.io/symbulate/process.html#value).)"
   ]
  },
  {
   "cell_type": "code",
   "execution_count": 5,
   "metadata": {},
   "outputs": [],
   "source": [
    "# Type all of your code for this problem in this cell.\n",
    "# Feel free to add additional cells for scratch work, but they will not be graded."
   ]
  },
  {
   "cell_type": "markdown",
   "metadata": {},
   "source": [
    "### e)\n",
    "\n",
    "Simulate and plot the distribution of $X_{10}$, and approximate its mean and variance.\n",
    "\n",
    "**Reflection question:** How does the distribution of $X_{10}$ compare to that of $X_5$?"
   ]
  },
  {
   "cell_type": "code",
   "execution_count": 6,
   "metadata": {},
   "outputs": [],
   "source": [
    "# Type all of your code for this problem in this cell.\n",
    "# Feel free to add additional cells for scratch work, but they will not be graded."
   ]
  },
  {
   "cell_type": "markdown",
   "metadata": {},
   "source": [
    "### f) \n",
    "\n",
    "Simulate and make a histogram or density plot of the joint distribution of $X_5$ and $X_{10}$, and approximate its correlation and covariance."
   ]
  },
  {
   "cell_type": "code",
   "execution_count": 7,
   "metadata": {},
   "outputs": [],
   "source": [
    "# Type all of your code for this problem in this cell.\n",
    "# Feel free to add additional cells for scratch work, but they will not be graded."
   ]
  },
  {
   "cell_type": "markdown",
   "metadata": {},
   "source": [
    "### g) \n",
    "\n",
    "Simulate and make a histogram or density plot of the joint distribution of $X_5$ and $X_6$, and approximate its correlation and covariance.\n",
    "\n",
    "**Reflection question:** How does the joint distribution of $X_5$ and $X_6$ compare to that of $X_5$ and $X_{10}$?"
   ]
  },
  {
   "cell_type": "code",
   "execution_count": 8,
   "metadata": {},
   "outputs": [],
   "source": [
    "# Type all of your code for this problem in this cell.\n",
    "# Feel free to add additional cells for scratch work, but they will not be graded."
   ]
  },
  {
   "cell_type": "markdown",
   "metadata": {},
   "source": [
    "### h) \n",
    "\n",
    "Simulate and make a histogram of density plot of the joint distribution of $X_{10}$ and $X_{15}$, and approximate its correlation and covariance.\n",
    "\n",
    "**Reflection question:** How does the joint distribution of $X_{10}$ and $X_{15}$ compare to that of $X_{5}$ and $X_{10}$?"
   ]
  },
  {
   "cell_type": "code",
   "execution_count": 9,
   "metadata": {},
   "outputs": [],
   "source": [
    "# Type all of your code for this problem in this cell.\n",
    "# Feel free to add additional cells for scratch work, but they will not be graded."
   ]
  },
  {
   "cell_type": "markdown",
   "metadata": {},
   "source": [
    "### i) \n",
    "\n",
    "Simulate and make a histogram or density plot of the joint distribution of $X_{10}$ and $X_{11}$, and approximate its correlation and covariance.\n",
    "\n",
    "**Reflection question:** How does the joint distribution of $X_{10}$ and $X_{11}$ compare to that of $X_{5}$ and $X_{6}$?"
   ]
  },
  {
   "cell_type": "code",
   "execution_count": 10,
   "metadata": {},
   "outputs": [],
   "source": [
    "# Type all of your code for this problem in this cell.\n",
    "# Feel free to add additional cells for scratch work, but they will not be graded."
   ]
  },
  {
   "cell_type": "markdown",
   "metadata": {},
   "source": [
    "### j) More reflection questions\n",
    "\n",
    "Does the $X$ process appear to be stationary?  Note: The process starts with $X_0=0$ so it is technically not stationary.  But aside from the first few times, does it appear that the process is stationary?"
   ]
  },
  {
   "cell_type": "markdown",
   "metadata": {},
   "source": [
    "## Problem 2)\n",
    "\n",
    "Consider a random signal with both a random amplitude and a random \"phase shift\".\n",
    "$$\n",
    "X(t) = A\\cos(2\\pi t + \\Theta)\n",
    "$$\n",
    "where $A$ and $\\Theta$ are independent, $A$ is equally likely to be 0.5, 1, or 2, and $\\Theta$ has a Uniform(0,$2\\pi$) distribution.\n",
    "\n",
    "Note: to define $\\cos(2\\pi t)$ in Python, use `cos(2 * pi * t)`"
   ]
  },
  {
   "cell_type": "markdown",
   "metadata": {},
   "source": [
    "### a)\n",
    "\n",
    "\n",
    "Define in Symbulate the $X$ process.\n",
    "\n",
    "- Hint: use `ContinuousTimeFunction` to define the deterministic process $f(t)=t$.\n",
    "- However, to do some of the parts below, you'll need to explicitly define `RV` for $A$ and $\\Theta$ like [here](https://dlsun.github.io/symbulate/joint.html#unpack).\n",
    "- Define the probability space `P` for $A$ and $\\Theta$ and then define `RV` on that space and also `RandomProcess` on that space."
   ]
  },
  {
   "cell_type": "code",
   "execution_count": 11,
   "metadata": {},
   "outputs": [],
   "source": [
    "# Type all of your code for this problem in this cell.\n",
    "# Feel free to add additional cells for scratch work, but they will not be graded."
   ]
  },
  {
   "cell_type": "markdown",
   "metadata": {},
   "source": [
    "### b)\n",
    "\n",
    "Simulate and plot a single sample path for $0\\le t \\le 3$.  (You might need to change `alpha = ` if the plot is too light.)"
   ]
  },
  {
   "cell_type": "code",
   "execution_count": 12,
   "metadata": {},
   "outputs": [],
   "source": [
    "# Type all of your code for this problem in this cell.\n",
    "# Feel free to add additional cells for scratch work, but they will not be graded."
   ]
  },
  {
   "cell_type": "markdown",
   "metadata": {},
   "source": [
    "### c)\n",
    "\n",
    "Simulate and plot 100 sample paths."
   ]
  },
  {
   "cell_type": "code",
   "execution_count": 13,
   "metadata": {},
   "outputs": [],
   "source": [
    "# Type all of your code for this problem in this cell.\n",
    "# Feel free to add additional cells for scratch work, but they will not be graded."
   ]
  },
  {
   "cell_type": "markdown",
   "metadata": {},
   "source": [
    "### d)\n",
    "\n",
    "Simulate and plot the conditional distribution of $X(1)$ given $A = 1$, and approximate its mean and variance.  (Remember [this](https://dlsun.github.io/symbulate/conditioning.html#conditioning).)\n",
    "\n",
    "**Reflection question:** You might suspect that since $\\Theta$ has a uniform distribution then $X(1)$ has a uniform distribution when $A=1$.  But is that true?"
   ]
  },
  {
   "cell_type": "code",
   "execution_count": 14,
   "metadata": {},
   "outputs": [],
   "source": [
    "# Type all of your code for this problem in this cell.\n",
    "# Feel free to add additional cells for scratch work, but they will not be graded."
   ]
  },
  {
   "cell_type": "markdown",
   "metadata": {},
   "source": [
    "### e)\n",
    "\n",
    "Simulate and plot the distribution of $X(1)$, and approximate its mean and variance.\n",
    "\n",
    "**Reflection question:** Can you explain the shape?"
   ]
  },
  {
   "cell_type": "code",
   "execution_count": 15,
   "metadata": {},
   "outputs": [],
   "source": [
    "# Type all of your code for this problem in this cell.\n",
    "# Feel free to add additional cells for scratch work, but they will not be graded."
   ]
  },
  {
   "cell_type": "markdown",
   "metadata": {},
   "source": [
    "### f)\n",
    "\n",
    "Simulate and plot the joint distribution of $X(1)$ and $X(2)$ and approximate the covariance and correlation.\n",
    "\n",
    "**Reflection question:** Can you explain why the scatterplot looks the way it does?)"
   ]
  },
  {
   "cell_type": "code",
   "execution_count": 16,
   "metadata": {},
   "outputs": [],
   "source": [
    "# Type all of your code for this problem in this cell.\n",
    "# Feel free to add additional cells for scratch work, but they will not be graded."
   ]
  },
  {
   "cell_type": "markdown",
   "metadata": {},
   "source": [
    "### g)\n",
    "\n",
    "Simulate and plot the joint distribution of $X(1)$ and $X(1.5)$ and approximate the covariance and correlation.\n",
    "\n",
    "**Reflection question:** Can you explain why the scatterplot looks the way it does?"
   ]
  },
  {
   "cell_type": "code",
   "execution_count": 17,
   "metadata": {},
   "outputs": [],
   "source": [
    "# Type all of your code for this problem in this cell.\n",
    "# Feel free to add additional cells for scratch work, but they will not be graded."
   ]
  },
  {
   "cell_type": "markdown",
   "metadata": {},
   "source": [
    "### h)\n",
    "\n",
    "Simulate and plot the joint distribution of $X(1)$ and $X(1.25)$ and approximate the covariance and correlation.\n",
    "\n",
    "**Reflection question:** Can you explain why the scatterplot looks the way it does?"
   ]
  },
  {
   "cell_type": "code",
   "execution_count": 18,
   "metadata": {},
   "outputs": [],
   "source": [
    "# Type all of your code for this problem in this cell.\n",
    "# Feel free to add additional cells for scratch work, but they will not be graded."
   ]
  },
  {
   "cell_type": "markdown",
   "metadata": {},
   "source": [
    "## Submission Instructions\n",
    "\n",
    "Before you submit this notebook, click the \"Kernel\" drop-down menu at the top of this page and select \"Restart & Run All\". This will ensure that all of the code in your notebook executes properly. Please fix any errors, and repeat the process until the entire notebook executes without any errors."
   ]
  }
 ],
 "metadata": {
  "kernelspec": {
   "display_name": "Python 3",
   "language": "python",
   "name": "python3"
  },
  "language_info": {
   "codemirror_mode": {
    "name": "ipython",
    "version": 3
   },
   "file_extension": ".py",
   "mimetype": "text/x-python",
   "name": "python",
   "nbconvert_exporter": "python",
   "pygments_lexer": "ipython3",
   "version": "3.6.6"
  }
 },
 "nbformat": 4,
 "nbformat_minor": 2
}

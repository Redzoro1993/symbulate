{
 "cells": [
  {
   "cell_type": "markdown",
   "metadata": {},
   "source": [
    "# Symbulate Lab 1 - Probability Spaces"
   ]
  },
  {
   "cell_type": "markdown",
   "metadata": {},
   "source": [
    "This Jupyter notebook provides a template for you to fill in.  Complete the parts as indicated.  To run a cell, hold down SHIFT and hit ENTER."
   ]
  },
  {
   "cell_type": "markdown",
   "metadata": {},
   "source": [
    "In this lab you will use the Python package [Symbulate](https://github.com/dlsun/symbulate).  You should have already completed Section 1 of the \"Getting Started with Symbulate Tutorial\" **ADD LINK** and read sections 1 through 3 of the [Symbulate documentation](https://dlsun.github.io/symbulate/index.html).  A few specific links to the documentation are provided below, but it will probably make more sense if you read the documentation from start to finish.  **Whenever possible, you should use Symbulate commands, not general Python code.**\n",
    "\n",
    "To use Symbulate, you must first run (SHIFT-ENTER) the following commands."
   ]
  },
  {
   "cell_type": "code",
   "execution_count": 1,
   "metadata": {},
   "outputs": [],
   "source": [
    "from symbulate import *\n",
    "%matplotlib inline"
   ]
  },
  {
   "cell_type": "markdown",
   "metadata": {},
   "source": [
    "## Part I. Introduction to Symbulate, and conditional versus unconditional probability"
   ]
  },
  {
   "cell_type": "markdown",
   "metadata": {},
   "source": [
    "A deck of 16 cards contains 4 cards in each of four suits ['clubs', 'diamonds', 'hearts', 'spades'].  The deck is shuffled and two cards are drawn in sequence.  We are interested in the following questions.\n",
    "\n",
    "1. What is the probability that the first card drawn is a heart?\n",
    "1. What is the probability that the second card drawn is a heart?\n",
    "1. If the first card drawn is a heart, what is the probability that the second card drawn is a heart?\n",
    "\n",
    "Before proceeding, give your best guess of each of these probabilites."
   ]
  },
  {
   "cell_type": "markdown",
   "metadata": {},
   "source": [
    "We'll use simulation to obtain approximations to the probabilities in the questions above.  First we define the deck of cards (we only care about the suits for this exercise)."
   ]
  },
  {
   "cell_type": "code",
   "execution_count": 2,
   "metadata": {},
   "outputs": [
    {
     "data": {
      "text/plain": [
       "16"
      ]
     },
     "execution_count": 2,
     "metadata": {},
     "output_type": "execute_result"
    }
   ],
   "source": [
    "cards = ['club', 'diamond', 'heart', 'spade'] * 4  # 4 cards of each suit\n",
    "len(cards)"
   ]
  },
  {
   "cell_type": "markdown",
   "metadata": {},
   "source": [
    "Now we define a [`BoxModel`](https://dlsun.github.io/symbulate/probspace.html#boxmodel) probability space corresponding to drawing two cards (`size=2`) from the deck at random.  We'll assume that the cards are drawn without replacement (`replace=False`).  We also want to keep track of which card was drawn first and which second (`order_matters=True`).  "
   ]
  },
  {
   "cell_type": "code",
   "execution_count": 3,
   "metadata": {},
   "outputs": [],
   "source": [
    "P = BoxModel(cards, size=2, replace=False, order_matters=True)"
   ]
  },
  {
   "cell_type": "markdown",
   "metadata": {},
   "source": [
    "The `.draw()` method simulates a single outcome from the probability space.  Note that each outcome is an ordered pair of cards."
   ]
  },
  {
   "cell_type": "code",
   "execution_count": 4,
   "metadata": {},
   "outputs": [
    {
     "data": {
      "text/plain": [
       "(spade, spade)"
      ]
     },
     "execution_count": 4,
     "metadata": {},
     "output_type": "execute_result"
    }
   ],
   "source": [
    "P.draw()"
   ]
  },
  {
   "cell_type": "markdown",
   "metadata": {},
   "source": [
    "Many outcomes can be simulated using `.sim()`. The following simulates 10000 draws and stores the results in the variable `sims`."
   ]
  },
  {
   "cell_type": "code",
   "execution_count": 5,
   "metadata": {},
   "outputs": [
    {
     "data": {
      "text/html": [
       "\n",
       "    <table>\n",
       "      <thead>\n",
       "        <th width=\"10%\">Index</th>\n",
       "        <th width=\"90%\">Result</th>\n",
       "      </thead>\n",
       "      <tbody>\n",
       "        \n",
       "        <tr>\n",
       "          <td>0</td><td>(spade, heart)</td>\n",
       "        </tr>\n",
       "        \n",
       "        <tr>\n",
       "          <td>1</td><td>(club, club)</td>\n",
       "        </tr>\n",
       "        \n",
       "        <tr>\n",
       "          <td>2</td><td>(heart, heart)</td>\n",
       "        </tr>\n",
       "        \n",
       "        <tr>\n",
       "          <td>3</td><td>(heart, diamond)</td>\n",
       "        </tr>\n",
       "        \n",
       "        <tr>\n",
       "          <td>4</td><td>(heart, club)</td>\n",
       "        </tr>\n",
       "        \n",
       "        <tr>\n",
       "          <td>5</td><td>(club, diamond)</td>\n",
       "        </tr>\n",
       "        \n",
       "        <tr>\n",
       "          <td>6</td><td>(spade, heart)</td>\n",
       "        </tr>\n",
       "        \n",
       "        <tr>\n",
       "          <td>7</td><td>(heart, diamond)</td>\n",
       "        </tr>\n",
       "        \n",
       "        <tr>\n",
       "          <td>8</td><td>(diamond, spade)</td>\n",
       "        </tr>\n",
       "        <tr><td>...</td><td>...</td></tr>\n",
       "        <tr>\n",
       "          <td>9999</td><td>(club, diamond)</td>\n",
       "        </tr>\n",
       "        \n",
       "      </tbody>\n",
       "    </table>\n",
       "        "
      ],
      "text/plain": [
       "<symbulate.results.Results at 0x8c9c8d0>"
      ]
     },
     "execution_count": 5,
     "metadata": {},
     "output_type": "execute_result"
    }
   ],
   "source": [
    "sims = P.sim(10000)\n",
    "sims"
   ]
  },
  {
   "cell_type": "markdown",
   "metadata": {},
   "source": [
    "We can summarize the simulation results with `.tabulate()`.  Note that `('heart', 'club')` is counted as a separate outcome than `('club', 'heart')` because the order matters."
   ]
  },
  {
   "cell_type": "code",
   "execution_count": 6,
   "metadata": {},
   "outputs": [
    {
     "data": {
      "text/html": [
       "\n",
       "<table>\n",
       "  <thead>\n",
       "    <th width=\"80%\">Outcome</th>\n",
       "    <th width=\"20%\">Value</th>\n",
       "  </thead>\n",
       "  <tbody>\n",
       "    <tr><td>(club, club)</td><td>495</td></tr><tr><td>(club, diamond)</td><td>672</td></tr><tr><td>(club, heart)</td><td>631</td></tr><tr><td>(club, spade)</td><td>650</td></tr><tr><td>(diamond, club)</td><td>656</td></tr><tr><td>(diamond, diamond)</td><td>465</td></tr><tr><td>(diamond, heart)</td><td>661</td></tr><tr><td>(diamond, spade)</td><td>696</td></tr><tr><td>(heart, club)</td><td>702</td></tr><tr><td>(heart, diamond)</td><td>697</td></tr><tr><td>(heart, heart)</td><td>530</td></tr><tr><td>(heart, spade)</td><td>643</td></tr><tr><td>(spade, club)</td><td>628</td></tr><tr><td>(spade, diamond)</td><td>669</td></tr><tr><td>(spade, heart)</td><td>662</td></tr><tr><td>(spade, spade)</td><td>543</td></tr><tr><td><b>Total</b></td><td><b>10000</b></td></tr>\n",
       "  </tbody>\n",
       "</table>\n"
      ],
      "text/plain": [
       "{(club, club): 495,\n",
       " (club, diamond): 672,\n",
       " (club, heart): 631,\n",
       " (club, spade): 650,\n",
       " (diamond, club): 656,\n",
       " (diamond, diamond): 465,\n",
       " (diamond, heart): 661,\n",
       " (diamond, spade): 696,\n",
       " (heart, club): 702,\n",
       " (heart, diamond): 697,\n",
       " (heart, heart): 530,\n",
       " (heart, spade): 643,\n",
       " (spade, club): 628,\n",
       " (spade, diamond): 669,\n",
       " (spade, heart): 662,\n",
       " (spade, spade): 543}"
      ]
     },
     "execution_count": 6,
     "metadata": {},
     "output_type": "execute_result"
    }
   ],
   "source": [
    "sims = P.sim(10000)\n",
    "sims.tabulate()"
   ]
  },
  {
   "cell_type": "markdown",
   "metadata": {},
   "source": [
    "The above table could be used to estimate the probabilities in question.  Instead, we will illustrate several other tools available in Symbulate to summarize simulation output.\n",
    "\n",
    "First, we use a `filter` function to creat a subset of the simulated outcomes for which the first card is a heart.  We define a function `first_is_heart` that takes as an input a pair of values (`x`) and returns `True` if the first value in the pair (`x[0]`) is equal to 'hearts', and `False` otherwise. (Python indexing starts at 0: 0 is the first enrty, 1 is the second, and so on.)"
   ]
  },
  {
   "cell_type": "code",
   "execution_count": 7,
   "metadata": {},
   "outputs": [
    {
     "data": {
      "text/plain": [
       "True"
      ]
     },
     "execution_count": 7,
     "metadata": {},
     "output_type": "execute_result"
    }
   ],
   "source": [
    "def first_is_heart(x):\n",
    "    return (x[0] == 'heart')\n",
    "\n",
    "first_is_heart(('heart', 'club'))"
   ]
  },
  {
   "cell_type": "code",
   "execution_count": 8,
   "metadata": {},
   "outputs": [
    {
     "data": {
      "text/plain": [
       "False"
      ]
     },
     "execution_count": 8,
     "metadata": {},
     "output_type": "execute_result"
    }
   ],
   "source": [
    "first_is_heart(('club', 'heart'))"
   ]
  },
  {
   "cell_type": "markdown",
   "metadata": {},
   "source": [
    "Now we `filter` the simulated outcomes to create the subset of outcomes for which `first_is_heart` returns `True`."
   ]
  },
  {
   "cell_type": "code",
   "execution_count": 9,
   "metadata": {},
   "outputs": [
    {
     "data": {
      "text/html": [
       "\n",
       "<table>\n",
       "  <thead>\n",
       "    <th width=\"80%\">Outcome</th>\n",
       "    <th width=\"20%\">Value</th>\n",
       "  </thead>\n",
       "  <tbody>\n",
       "    <tr><td>(heart, club)</td><td>702</td></tr><tr><td>(heart, diamond)</td><td>697</td></tr><tr><td>(heart, heart)</td><td>530</td></tr><tr><td>(heart, spade)</td><td>643</td></tr><tr><td><b>Total</b></td><td><b>2572</b></td></tr>\n",
       "  </tbody>\n",
       "</table>\n"
      ],
      "text/plain": [
       "{(heart, club): 702,\n",
       " (heart, diamond): 697,\n",
       " (heart, heart): 530,\n",
       " (heart, spade): 643}"
      ]
     },
     "execution_count": 9,
     "metadata": {},
     "output_type": "execute_result"
    }
   ],
   "source": [
    "sims_first_is_heart = sims.filter(first_is_heart)\n",
    "sims_first_is_heart.tabulate()"
   ]
  },
  {
   "cell_type": "markdown",
   "metadata": {},
   "source": [
    "Returning to question 1, we can estimate the probability that the first card is a heart by dividing the number of simulated draws for which the first card is a heart divided by the total number of simulated draws (using the length function `len` to count.)"
   ]
  },
  {
   "cell_type": "code",
   "execution_count": 10,
   "metadata": {},
   "outputs": [
    {
     "data": {
      "text/plain": [
       "0.2572"
      ]
     },
     "execution_count": 10,
     "metadata": {},
     "output_type": "execute_result"
    }
   ],
   "source": [
    "len(sims_first_is_heart) / len(sims)"
   ]
  },
  {
   "cell_type": "markdown",
   "metadata": {},
   "source": [
    "The true probability is 4/16 = 0.25.  Your simulated probability should be close to 0.25, but there will be some natural variability due to the randomness in the simulation.  Very roughly, the margin of error of a probability estimate based on $N$ simulated repetitions is about $1/\\sqrt{N}$, so about 0.01 for 10000 repetitions. The interval constructed by adding $\\pm 0.01$ to your estimate will likely contain 0.25."
   ]
  },
  {
   "cell_type": "markdown",
   "metadata": {},
   "source": [
    "## a)\n",
    "\n",
    "Recall question 2: What is the probability that the second card drawn is a heart? Use an analysis similar to the above &mdash; including defining an appropriate function to use with `filter` &mdash; to estimate the probability.  (Is your simulated value close to your initial guess?)\n",
    "\n",
    "Type your commands in the following code cell.  Aside from defining a `second_is_heart` function and using `len`, you should use Symbulate commands exclusively."
   ]
  },
  {
   "cell_type": "code",
   "execution_count": 11,
   "metadata": {},
   "outputs": [],
   "source": [
    "# Type your Symbulate commands in this cell."
   ]
  },
  {
   "cell_type": "markdown",
   "metadata": {},
   "source": [
    "## b)\n",
    "\n",
    "Many people confuse the probabilities in (2) and (3).  The probability in (2) is an *unconditional* probability: we do not know whether or not the first card is a heart so we need to account for both possibilities.  All we know is that each of the 16 cards in the deck is equally likely to be shuffled into the second position, so the probability that the second card is a heart (without knowing what the first card is) is 4/16 = 0.25.\n",
    "\n",
    "In contrast, the probability in question 3 is a *conditional* probability: *given that the first card drawn is a heart*, what is the probability that the second card drawn is a heart?  Again, aside from maybe defining a new `is_heart` function and using `len`, you should use Symbulate commands exclusively."
   ]
  },
  {
   "cell_type": "code",
   "execution_count": 12,
   "metadata": {},
   "outputs": [],
   "source": [
    "# Type your Symbulate commands in this cell."
   ]
  },
  {
   "cell_type": "markdown",
   "metadata": {},
   "source": [
    "## c)\n",
    "\n",
    "Given that the first card is a heart, there are 15 cards left in the deck, each of which is equally likely to be the second card, of which 3 are hearts.  So the conditional probability that the second card is a heart given that the first card is a heart is 3/15 = 0.20.  Verify that your simulated value is consistent with the true value.\n",
    "\n",
    "Now you will do a few calculations by hand.\n",
    "\n",
    "1. Compute, by hand, the conditional probability that the second card is a heart given that the first cards is NOT a heart.\n",
    "1. Construct, by hand, a hypothetical two-way table representing the results of 10000 draws.\n",
    "1. Use the hypothetical table to compute the probability that the second card is a heart.\n",
    "1. What is the relationship between the probability that the second card is a heart and the two conditional probabilities?\n",
    "\n",
    "(Nothing to respond here, just make sure you understand the answers.)"
   ]
  },
  {
   "cell_type": "markdown",
   "metadata": {},
   "source": [
    "## d)\n",
    "\n",
    "How would the answers to the previous questions change if the draws were made with replacement (so that the first card is replaced and the deck reshuffled before the second draw is drawn?)  In this case, what can we say about the events \"the first card is a heart\" and \"the second card is a heart\"?"
   ]
  },
  {
   "cell_type": "markdown",
   "metadata": {},
   "source": [
    "**Type your response here.**"
   ]
  },
  {
   "cell_type": "markdown",
   "metadata": {},
   "source": [
    "## Part II.  Collector's problem"
   ]
  },
  {
   "cell_type": "markdown",
   "metadata": {},
   "source": [
    "Each box of a certain type of cereal contains one of $n$ distinct prizes and you want to obtain a complete set. Suppose\n",
    "that each box of cereal is equally likely to contain any one of the $n$ prizes, and the particular prize\n",
    "that appears in one box has no bearing on the prize that appears in another box. You purchase\n",
    "cereal boxes one box at a time until you\n",
    "have the complete set of $n$ prizes.  What is the probability that you buy more than $k$ boxes?  In this problem you will use simulation to estimate this probability for different values of $n$ and $k$."
   ]
  },
  {
   "cell_type": "markdown",
   "metadata": {},
   "source": [
    "Here is a little Python code you can use to label the $n$ prizes from 0 to $n-1$.  (Remember: Python starts indexing at 0.)"
   ]
  },
  {
   "cell_type": "code",
   "execution_count": 13,
   "metadata": {},
   "outputs": [
    {
     "data": {
      "text/plain": [
       "[0, 1, 2, 3, 4, 5, 6, 7, 8, 9]"
      ]
     },
     "execution_count": 13,
     "metadata": {},
     "output_type": "execute_result"
    }
   ],
   "source": [
    "n = 10\n",
    "prizes = list(range(n))\n",
    "prizes"
   ]
  },
  {
   "cell_type": "markdown",
   "metadata": {},
   "source": [
    "And here is a function that returns the number of distinct prizes collected among a set of prizes."
   ]
  },
  {
   "cell_type": "code",
   "execution_count": 14,
   "metadata": {},
   "outputs": [
    {
     "data": {
      "text/plain": [
       "3"
      ]
     },
     "execution_count": 14,
     "metadata": {},
     "output_type": "execute_result"
    }
   ],
   "source": [
    "def number_collected(x):\n",
    "    return len(set(x))\n",
    "\n",
    "# For example\n",
    "number_collected([2, 1, 2, 0, 2, 2, 0])"
   ]
  },
  {
   "cell_type": "markdown",
   "metadata": {},
   "source": [
    "**Aside from the above functions, you should use Symbulate commands exclusively for Part II. **"
   ]
  },
  {
   "cell_type": "markdown",
   "metadata": {},
   "source": [
    "## Problem 1.\n",
    "\n",
    "We'll assume that there are 3 prizes, $n=3$, a situation in which exact probabilities can easily be computed by enumerating the possible outcomes."
   ]
  },
  {
   "cell_type": "code",
   "execution_count": 15,
   "metadata": {},
   "outputs": [
    {
     "data": {
      "text/plain": [
       "[0, 1, 2]"
      ]
     },
     "execution_count": 15,
     "metadata": {},
     "output_type": "execute_result"
    }
   ],
   "source": [
    "n = 3\n",
    "prizes = list(range(n))\n",
    "prizes"
   ]
  },
  {
   "cell_type": "markdown",
   "metadata": {},
   "source": [
    "### a)\n",
    "\n",
    "Define a probability space for the sequence of prizes obtained after buying $3$ boxes (first box, second box, third box), and simulate a single outcome.  (Hint: try [BoxModel](https://dlsun.github.io/symbulate/probspace.html#boxmodel).)"
   ]
  },
  {
   "cell_type": "code",
   "execution_count": 16,
   "metadata": {},
   "outputs": [],
   "source": [
    "# Type your Symbulate commands in this cell."
   ]
  },
  {
   "cell_type": "markdown",
   "metadata": {},
   "source": [
    "### b)\n",
    "\n",
    "Now simulate many outcomes and summarize the results.  Does it appear that each sequence of prizes is equally likely?  (Hint: try the various [Simulation tools](https://dlsun.github.io/symbulate/sim.html#sim) like `.sim()` and `.tabulate()`.)"
   ]
  },
  {
   "cell_type": "code",
   "execution_count": 17,
   "metadata": {},
   "outputs": [],
   "source": [
    "# Type your Symbulate commands in this cell."
   ]
  },
  {
   "cell_type": "markdown",
   "metadata": {},
   "source": [
    "### c)\n",
    "\n",
    "Count the number of distinct prizes collected for each of the simulated outcomes using the `number_collected` function.  (Hint: try [`.apply()`](https://dlsun.github.io/symbulate/sim.html#apply).)"
   ]
  },
  {
   "cell_type": "code",
   "execution_count": 18,
   "metadata": {},
   "outputs": [],
   "source": [
    "# Type your Symbulate commands in this cell."
   ]
  },
  {
   "cell_type": "markdown",
   "metadata": {},
   "source": [
    "### d)\n",
    "\n",
    "Use the simulation results to estimate the probability the more than $k=3$ boxes are needed to complete a set of $n=3$ prizes.  (Hint: see this [summary of the simulation tools](https://dlsun.github.io/symbulate/sim.html#summary) section for a few suggestions.)"
   ]
  },
  {
   "cell_type": "code",
   "execution_count": 19,
   "metadata": {},
   "outputs": [],
   "source": [
    "# Type your Symbulate commands in this cell."
   ]
  },
  {
   "cell_type": "markdown",
   "metadata": {},
   "source": [
    "## Problem 2.\n",
    "\n",
    "Use simulation to estimate the probability that more than $k=100$ boxes are need to complete a set of $n=20$ prizes, a situation for which it is extremely difficult to compute the probability analytically."
   ]
  },
  {
   "cell_type": "code",
   "execution_count": 20,
   "metadata": {},
   "outputs": [],
   "source": [
    "# Type your Symbulate commands in this cell."
   ]
  },
  {
   "cell_type": "markdown",
   "metadata": {},
   "source": [
    "## Problem 3.\n",
    "\n",
    "How large of a group of people is needed to have a probability of greater than 0.5 that on every day of the year someone in the group has a birthday?  Greater than 0.9?  Greater than 0.99?  (Assume 365 equally likely birthdays, no multiples, etc.)  Before coding, I encourage you to make some guesses for the answers first.\n",
    "\n",
    "Formulate this scenario as a collector's problem and experimemt with values of $n$ or $k$ until you are satisfied.  (You don't have to get any fancier than guess-and-check, but you can if you want.) "
   ]
  },
  {
   "cell_type": "code",
   "execution_count": 21,
   "metadata": {},
   "outputs": [],
   "source": [
    "# Type your relevant code in this cell for 0.5"
   ]
  },
  {
   "cell_type": "code",
   "execution_count": 22,
   "metadata": {},
   "outputs": [],
   "source": [
    "# Type your relevant code in this cell for 0.9"
   ]
  },
  {
   "cell_type": "code",
   "execution_count": 23,
   "metadata": {},
   "outputs": [],
   "source": [
    "# Type your relevant code in this cell for 0.99"
   ]
  },
  {
   "cell_type": "markdown",
   "metadata": {},
   "source": [
    "## Problem 4."
   ]
  },
  {
   "cell_type": "markdown",
   "metadata": {},
   "source": [
    "Now suppose that some prizes are harder to find than others.  In particular, suppose that the prizes are labeled 1, 2, 3, 4, 5.  Assume that prize 2 is twice as likely as prize 1, prize 3 is three times as likely as prize 1, prize 4 is four times as likely as prize 1, and prize 5 is five times as likely as prize 1.\n",
    "\n",
    "Estimate the probability that you'll need to buy more than 20 prizes to obtain a complete set.  How does this probability compare to the probability in the equally likely situation?\n",
    "Hint: define a [BoxModel with a dictionary-like input](https://dlsun.github.io/symbulate/probspace.html#dictionary)."
   ]
  },
  {
   "cell_type": "code",
   "execution_count": 24,
   "metadata": {},
   "outputs": [],
   "source": [
    "# Type your Symbulate commands in this cell."
   ]
  },
  {
   "cell_type": "markdown",
   "metadata": {},
   "source": [
    "## Submission Instructions\n",
    "\n",
    "Before you submit this notebook, click the \"Kernel\" drop-down menu at the top of this page and select \"Restart & Run All\". This will ensure that all of the code in your notebook executes properly."
   ]
  },
  {
   "cell_type": "code",
   "execution_count": null,
   "metadata": {},
   "outputs": [],
   "source": []
  }
 ],
 "metadata": {
  "kernelspec": {
   "display_name": "Python 3",
   "language": "python",
   "name": "python3"
  },
  "language_info": {
   "codemirror_mode": {
    "name": "ipython",
    "version": 3
   },
   "file_extension": ".py",
   "mimetype": "text/x-python",
   "name": "python",
   "nbconvert_exporter": "python",
   "pygments_lexer": "ipython3",
   "version": "3.6.6"
  }
 },
 "nbformat": 4,
 "nbformat_minor": 2
}

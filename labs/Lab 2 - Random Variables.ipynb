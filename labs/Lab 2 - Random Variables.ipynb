{
 "cells": [
  {
   "cell_type": "markdown",
   "metadata": {},
   "source": [
    "# Symbulate Lab 2 - Random Variables"
   ]
  },
  {
   "cell_type": "markdown",
   "metadata": {},
   "source": [
    "This Jupyter notebook provides a template for you to fill in.  Read the notebook from start to finish, completing the parts as indicated.  To run a cell, make sure the cell is highlighted by clicking on it, then press SHIFT + ENTER on your keyboard.  (Alternatively, you can click the \"play\" button in the toolbar above.)"
   ]
  },
  {
   "cell_type": "markdown",
   "metadata": {},
   "source": [
    "In this lab you will use the Symbulate package.  You should have completed [Section 2](https://github.com/dlsun/symbulate/blob/master/tutorial/gs_rv.ipynb) of the \"Getting Started Tutorial\" and read Sections 1-4 of the [documentation](https://dlsun.github.io/symbulate/index.html) (you can ignore parts about continuous random variables for now).  A few specific links to the documentation are provided below, but it will probably make more sense if you read the documentation from start to finish.  **You should Symbulate commands whenever possible.**  If you find yourself writing long blocks of Python code, you are probably doing something wrong.  For example, you should not need to write any `for` loops.\n",
    "\n",
    "**Warning:** You may notice that many of the cells in this notebook are not editable. This is intentional and for your own safety. We have made these cells read-only so that you don't accidentally modify or delete them. However, you should still be able to execute the code in these cells."
   ]
  },
  {
   "cell_type": "code",
   "execution_count": 1,
   "metadata": {},
   "outputs": [],
   "source": [
    "from symbulate import *\n",
    "%matplotlib inline"
   ]
  },
  {
   "cell_type": "markdown",
   "metadata": {},
   "source": [
    "## Part I\n",
    "\n",
    "Cards labeled 1, 2, ... $n$ are shuffled and $k$ are drawn out.  Let $X$ represent the smallest number drawn.  For example, if the cards drawn are (4, 10, 4, 7, 6) then $X=4$.  In this problem you will investigate the distribution of the random variable $X$ and how it changes depending on whether the cards are drawn with or without replacement.\n",
    "\n",
    "We will assume $n=10$ and $k=5$."
   ]
  },
  {
   "cell_type": "code",
   "execution_count": 2,
   "metadata": {},
   "outputs": [
    {
     "data": {
      "text/plain": [
       "[1, 2, 3, 4, 5, 6, 7, 8, 9, 10]"
      ]
     },
     "execution_count": 2,
     "metadata": {},
     "output_type": "execute_result"
    }
   ],
   "source": [
    "k = 5\n",
    "n = 10\n",
    "cards = list(range(1, n + 1))\n",
    "cards"
   ]
  },
  {
   "cell_type": "markdown",
   "metadata": {},
   "source": [
    "### Problem 1:  Assume the cards are drawn *with* replacement.\n",
    "\n",
    "Before proceeding, make some guesses for how you would expect $X$ to behave.  What are the possible values?  What values would be more/less likely?  What would you guess for the expected value?  (Nothing to write up, just think about it.)"
   ]
  },
  {
   "cell_type": "markdown",
   "metadata": {},
   "source": [
    "### a)\n",
    "\n",
    "Define a probability space $P$ in which an outcome corresponds to the sequence of numbers drawn *with* replacement. (Hint: use [BoxModel](https://dlsun.github.io/symbulate/probspace.html#boxmodel).)  After defining $P$, display a few simulated outcomes."
   ]
  },
  {
   "cell_type": "code",
   "execution_count": 3,
   "metadata": {},
   "outputs": [],
   "source": [
    "# Type all of your code for this problem in this cell.\n",
    "# Feel free to add additional cells for scratch work, but they will not be graded."
   ]
  },
  {
   "cell_type": "markdown",
   "metadata": {},
   "source": [
    "### b)\n",
    "\n",
    "Now let $X$ denote the minimum (`min`) of the numbers drawn.  Define a Symbulate [random variable](https://dlsun.github.io/symbulate/rv.html#RV) $X$ on the probability space $P$ via an appropriate function.  Evaluate $X$ for the outcome (4, 10, 4, 7, 6)."
   ]
  },
  {
   "cell_type": "code",
   "execution_count": 4,
   "metadata": {},
   "outputs": [],
   "source": [
    "# Type all of your code for this problem in this cell.\n",
    "# Feel free to add additional cells for scratch work, but they will not be graded."
   ]
  },
  {
   "cell_type": "markdown",
   "metadata": {},
   "source": [
    "### c)\n",
    "\n",
    "Simulate 10000 values of $X$, store the values in a variable `x`, and summarize its approximate distribution in a table.  ([Hints.](https://dlsun.github.io/symbulate/rv.html#RV))  Note: Your table should include all *possible* values of $X$.  However, by default `tabulate` only tabulates those values which are among the simulated values, rather than all possible values. An argument can be passed to `.tabulate()` to tabulate all outcomes in a given list. [Compare the examples in `[14]` and `[15]` here](https://dlsun.github.io/symbulate/sim.html#tabulate)."
   ]
  },
  {
   "cell_type": "code",
   "execution_count": 5,
   "metadata": {},
   "outputs": [],
   "source": [
    "# Type all of your code for this problem in this cell.\n",
    "# Feel free to add additional cells for scratch work, but they will not be graded."
   ]
  },
  {
   "cell_type": "markdown",
   "metadata": {},
   "source": [
    "### d) \n",
    "\n",
    "Display the approximate distribution of $X$ in a plot.  ([Hint.](https://dlsun.github.io/symbulate/rv.html#plot))"
   ]
  },
  {
   "cell_type": "code",
   "execution_count": 6,
   "metadata": {},
   "outputs": [],
   "source": [
    "# Type all of your code for this problem in this cell.\n",
    "# Feel free to add additional cells for scratch work, but they will not be graded."
   ]
  },
  {
   "cell_type": "markdown",
   "metadata": {},
   "source": [
    "### e)\n",
    "\n",
    "Use the simulation results to estimate $P(X \\le 3)$.  Enter the appropriate Symbulate commands below; don't just use the above table and a calculator.  ([Hints](https://dlsun.github.io/symbulate/sim.html#recap).)  (Not to hand in, but good to think about: how you would you calculate this probability analytically?)"
   ]
  },
  {
   "cell_type": "code",
   "execution_count": 7,
   "metadata": {},
   "outputs": [],
   "source": [
    "# Type all of your code for this problem in this cell.\n",
    "# Feel free to add additional cells for scratch work, but they will not be graded."
   ]
  },
  {
   "cell_type": "markdown",
   "metadata": {},
   "source": [
    "### f)\n",
    "\n",
    "Approximate $E(X)$."
   ]
  },
  {
   "cell_type": "code",
   "execution_count": 8,
   "metadata": {},
   "outputs": [],
   "source": [
    "# Type all of your code for this problem in this cell.\n",
    "# Feel free to add additional cells for scratch work, but they will not be graded."
   ]
  },
  {
   "cell_type": "markdown",
   "metadata": {},
   "source": [
    "### g)\n",
    "\n",
    "Approximate $\\text{Var}(X)$ and $\\text{SD}(X)$."
   ]
  },
  {
   "cell_type": "code",
   "execution_count": 9,
   "metadata": {},
   "outputs": [],
   "source": [
    "# Type all of your code for this problem in this cell.\n",
    "# Feel free to add additional cells for scratch work, but they will not be graded."
   ]
  },
  {
   "cell_type": "markdown",
   "metadata": {},
   "source": [
    "### Problem 2:  Assume the cards are drawn *without* replacement.\n",
    "\n",
    "Let $Y$ denote the smallest number when the cards are drawn without replacement.  Before proceeding, make some guesses for how you would expect $Y$ to behave.  In particular, how would you expect the distribution of $Y$ to compare to the distribution of $X$?"
   ]
  },
  {
   "cell_type": "markdown",
   "metadata": {},
   "source": [
    "### a)\n",
    "\n",
    "Define a probability space $Q$ in which an outcome corresponds to the sequence of numbers drawn *without* replacement. (Hint: use [BoxModel](https://dlsun.github.io/symbulate/probspace.html#boxmodel).)  After defining $Q$, display a few simulated outcomes."
   ]
  },
  {
   "cell_type": "code",
   "execution_count": 10,
   "metadata": {},
   "outputs": [],
   "source": [
    "# Type all of your code for this problem in this cell.\n",
    "# Feel free to add additional cells for scratch work, but they will not be graded."
   ]
  },
  {
   "cell_type": "markdown",
   "metadata": {},
   "source": [
    "### b)\n",
    "\n",
    "Now let $Y$ denote the minimum (`min`) of the numbers drawn.  Define a Symbulate [random variable](https://dlsun.github.io/symbulate/rv.html#RV) $Y$ on the probability space $Q$ via an appropriate function."
   ]
  },
  {
   "cell_type": "code",
   "execution_count": 11,
   "metadata": {},
   "outputs": [],
   "source": [
    "# Type all of your code for this problem in this cell.\n",
    "# Feel free to add additional cells for scratch work, but they will not be graded."
   ]
  },
  {
   "cell_type": "markdown",
   "metadata": {},
   "source": [
    "### c)\n",
    "\n",
    "Simulate 10000 values of $Y$, store the values in a variable `y`, and summarize its approximate distribution in a table.  ([Hints.](https://dlsun.github.io/symbulate/rv.html#RV))  Note: Your table should include all *possible* values of $Y$.  However, by default `tabulate` only tabulates those values which are among the simulated values, rather than all possible values. An argument can be passed to `.tabulate()` to tabulate all outcomes in a given list. [Compare the examples in `[14]` and `[15]` here](https://dlsun.github.io/symbulate/sim.html#tabulate)."
   ]
  },
  {
   "cell_type": "code",
   "execution_count": 12,
   "metadata": {},
   "outputs": [],
   "source": [
    "# Type all of your code for this problem in this cell.\n",
    "# Feel free to add additional cells for scratch work, but they will not be graded."
   ]
  },
  {
   "cell_type": "markdown",
   "metadata": {},
   "source": [
    "### d) \n",
    "\n",
    "Display the approximate distribution of $Y$ in a plot.  ([Hint.](https://dlsun.github.io/symbulate/rv.html#plot)).  Also, plot the distribution of $X$ from Problem 1 in the same plot.  (Hint: use `jitter=True` [like in `[29]` here](https://dlsun.github.io/symbulate/graphics.html#custom).)  Note: the amount of offset produced by jitter is random; if the bars are still too close together, just run the cell again."
   ]
  },
  {
   "cell_type": "code",
   "execution_count": 13,
   "metadata": {},
   "outputs": [],
   "source": [
    "# Type all of your code for this problem in this cell.\n",
    "# Feel free to add additional cells for scratch work, but they will not be graded."
   ]
  },
  {
   "cell_type": "markdown",
   "metadata": {},
   "source": [
    "### e)\n",
    "\n",
    "Use the simulation results to estimate $P(Y \\le 3)$.  Enter the appropriate Symbulate commands below; don't just use the above table and a calculator.  ([Hints](https://dlsun.github.io/symbulate/sim.html#recap).)  (Not to hand in, but good to think about: how you would you calculate this probability analytically?)"
   ]
  },
  {
   "cell_type": "code",
   "execution_count": 14,
   "metadata": {},
   "outputs": [],
   "source": [
    "# Type all of your code for this problem in this cell.\n",
    "# Feel free to add additional cells for scratch work, but they will not be graded."
   ]
  },
  {
   "cell_type": "markdown",
   "metadata": {},
   "source": [
    "### f)\n",
    "\n",
    "Approximate $E(Y)$."
   ]
  },
  {
   "cell_type": "code",
   "execution_count": 15,
   "metadata": {},
   "outputs": [],
   "source": [
    "# Type all of your code for this problem in this cell.\n",
    "# Feel free to add additional cells for scratch work, but they will not be graded."
   ]
  },
  {
   "cell_type": "markdown",
   "metadata": {},
   "source": [
    "### g)\n",
    "\n",
    "Approximate $\\text{Var}(Y)$ and $\\text{SD}(Y)$."
   ]
  },
  {
   "cell_type": "code",
   "execution_count": 16,
   "metadata": {},
   "outputs": [],
   "source": [
    "# Type all of your code for this problem in this cell.\n",
    "# Feel free to add additional cells for scratch work, but they will not be graded."
   ]
  },
  {
   "cell_type": "markdown",
   "metadata": {},
   "source": [
    "### h)\n",
    "\n",
    "Write a few sentences describing and comparing the distributions of $X$ and $Y$.  What are the main effects of changing from with to without replacement?"
   ]
  },
  {
   "cell_type": "markdown",
   "metadata": {},
   "source": [
    "**ENTER YOUR WRITTEN EXPLANATION HERE.**"
   ]
  },
  {
   "cell_type": "markdown",
   "metadata": {},
   "source": [
    "## Part II\n",
    "\n",
    "Recall the collector problem from Lab 1.  Each box of a certain type of cereal contains one of $n$ distinct prizes and you want to obtain a complete set. Suppose that each box of cereal is equally likely to contain any one of the $n$ prizes, and the particular prize\n",
    "that appears in one box has no bearing on the prize that appears in another box. You purchase\n",
    "cereal boxes one box at a time until you have the complete set of $n$ prizes. \n",
    "\n",
    "In Lab 1, you investigated the probability that you would need to buy more than a certain number of boxes to complete a set.  Now you will investigate the distribution of the number of boxes you purchase until you complete a set.\n",
    "\n",
    "Let $X$ be the total number of boxes purchased, assuming you stop once you have the complete set of $n$ prizes.\n",
    "\n",
    "We will assume $n=10$ (with prizes labeled 0, 1, ..., 9.)"
   ]
  },
  {
   "cell_type": "code",
   "execution_count": 17,
   "metadata": {},
   "outputs": [
    {
     "data": {
      "text/plain": [
       "[0, 1, 2, 3, 4, 5, 6, 7, 8, 9]"
      ]
     },
     "execution_count": 17,
     "metadata": {},
     "output_type": "execute_result"
    }
   ],
   "source": [
    "n = 10\n",
    "prizes = list(range(n))\n",
    "prizes"
   ]
  },
  {
   "cell_type": "markdown",
   "metadata": {},
   "source": [
    "Before proceeding, make some guesses for how you would expect $X$ to behave.  What is the smallest possible value?  The largest?  What values would be more/less likely?  What would you guess for the expected value?  (Nothing to write up, just think about it.)"
   ]
  },
  {
   "cell_type": "markdown",
   "metadata": {},
   "source": [
    "### a)\n",
    "\n",
    "The probability space could be represented as the sequence of prizes obtained.  (First I got prize 3, second I got prize 1, third I got prize 3 (again), etc.)  While technically you would stop buying prizes when you get a complete set, it is convenient to imagine that you keep buying boxes forever.  This way, all outcomes in the probability would have the same \"length\".  Also, you could use such a probability space to investigate other problems too (e.g. number of boxes purchased until $r$ complete sets are obtained).\n",
    "\n",
    "Define a probability space $P$ in which an outcome corresponds to an infinite sequence of prizes.  (Hint: use `BoxModel` with `size=inf`.)  After defining $P$, display a few simulated outcomes."
   ]
  },
  {
   "cell_type": "code",
   "execution_count": 18,
   "metadata": {},
   "outputs": [],
   "source": [
    "# Type all of your code for this problem in this cell.\n",
    "# Feel free to add additional cells for scratch work, but they will not be graded."
   ]
  },
  {
   "cell_type": "markdown",
   "metadata": {},
   "source": [
    "### b)\n",
    "\n",
    "The `number_prizes_until_complete_set` function below takes as an input a sequence of prizes and returns how many prizes were purchased until a complete set was obtained."
   ]
  },
  {
   "cell_type": "code",
   "execution_count": 19,
   "metadata": {},
   "outputs": [
    {
     "data": {
      "text/plain": [
       "19"
      ]
     },
     "execution_count": 19,
     "metadata": {},
     "output_type": "execute_result"
    }
   ],
   "source": [
    "def number_prizes_until_complete_set(outcome):\n",
    "    unique_prizes = set()\n",
    "    for i, prize in enumerate(outcome):\n",
    "        unique_prizes.add(prize)\n",
    "        if len(unique_prizes) == n:\n",
    "            return i + 1\n",
    "\n",
    "# for the outcome below, the set is completed when you get prize 7\n",
    "outcome = (3, 4, 3, 0, 1, 6, 5, 3, 2, 4, 5, 6, 9, 8, 3, 4, 5, 6, 7)  \n",
    "number_prizes_until_complete_set(outcome)"
   ]
  },
  {
   "cell_type": "markdown",
   "metadata": {},
   "source": [
    "Use the above function to define a `RV` $X$ on the probability space $P$ from part a)."
   ]
  },
  {
   "cell_type": "code",
   "execution_count": 20,
   "metadata": {},
   "outputs": [],
   "source": [
    "# Type all of your code for this problem in this cell.\n",
    "# Feel free to add additional cells for scratch work, but they will not be graded."
   ]
  },
  {
   "cell_type": "markdown",
   "metadata": {},
   "source": [
    "### c)\n",
    "\n",
    "Simulate 10000 values of $X$, store the values in a variable `x`, and summarize its approximate distribution in a table."
   ]
  },
  {
   "cell_type": "code",
   "execution_count": 21,
   "metadata": {},
   "outputs": [],
   "source": [
    "# Type all of your code for this problem in this cell.\n",
    "# Feel free to add additional cells for scratch work, but they will not be graded."
   ]
  },
  {
   "cell_type": "markdown",
   "metadata": {},
   "source": [
    "### d)\n",
    "\n",
    "Display the approximate distribution of $X$ in a plot."
   ]
  },
  {
   "cell_type": "code",
   "execution_count": 22,
   "metadata": {},
   "outputs": [],
   "source": [
    "# Type all of your code for this problem in this cell.\n",
    "# Feel free to add additional cells for scratch work, but they will not be graded."
   ]
  },
  {
   "cell_type": "markdown",
   "metadata": {},
   "source": [
    "### e)\n",
    "\n",
    "Use the simulation results to estimate $P(X > 40)$.  Enter the appropriate Symbulate commands below; don't just use the above table and a calculator.  ([Hints](https://dlsun.github.io/symbulate/sim.html#recap).)  (Recall that you estimated probabilities like this in lab 1)."
   ]
  },
  {
   "cell_type": "code",
   "execution_count": 23,
   "metadata": {},
   "outputs": [],
   "source": [
    "# Type all of your code for this problem in this cell.\n",
    "# Feel free to add additional cells for scratch work, but they will not be graded."
   ]
  },
  {
   "cell_type": "markdown",
   "metadata": {},
   "source": [
    "### f)\n",
    "\n",
    "Approximate $E(X)$."
   ]
  },
  {
   "cell_type": "code",
   "execution_count": 24,
   "metadata": {},
   "outputs": [],
   "source": [
    "# Type all of your code for this problem in this cell.\n",
    "# Feel free to add additional cells for scratch work, but they will not be graded."
   ]
  },
  {
   "cell_type": "markdown",
   "metadata": {},
   "source": [
    "### g)\n",
    "\n",
    "Write a sentence providing a \"long run average\" interpretation in this context of the value from the previous part."
   ]
  },
  {
   "cell_type": "markdown",
   "metadata": {},
   "source": [
    "**ENTER YOUR WRITTEN EXPLANATION HERE.**"
   ]
  },
  {
   "cell_type": "markdown",
   "metadata": {},
   "source": [
    "### h)\n",
    "\n",
    "Approximate $\\text{Var}(Y)$ and $\\text{SD}(Y)$."
   ]
  },
  {
   "cell_type": "code",
   "execution_count": 25,
   "metadata": {},
   "outputs": [],
   "source": [
    "# Type all of your code for this problem in this cell.\n",
    "# Feel free to add additional cells for scratch work, but they will not be graded."
   ]
  },
  {
   "cell_type": "markdown",
   "metadata": {},
   "source": [
    "### i) \n",
    "\n",
    "Write a few sentences describing the distribution of $X$."
   ]
  },
  {
   "cell_type": "markdown",
   "metadata": {},
   "source": [
    "**ENTER YOUR WRITTEN EXPLANATION HERE.**"
   ]
  },
  {
   "cell_type": "markdown",
   "metadata": {},
   "source": [
    "## Submission Instructions\n",
    "\n",
    "Before you submit this notebook, click the \"Kernel\" drop-down menu at the top of this page and select \"Restart & Run All\". This will ensure that all of the code in your notebook executes properly. Please fix any errors, and repeat the process until the entire notebook executes without any errors.\n"
   ]
  },
  {
   "cell_type": "code",
   "execution_count": null,
   "metadata": {},
   "outputs": [],
   "source": []
  }
 ],
 "metadata": {
  "kernelspec": {
   "display_name": "Python 3",
   "language": "python",
   "name": "python3"
  },
  "language_info": {
   "codemirror_mode": {
    "name": "ipython",
    "version": 3
   },
   "file_extension": ".py",
   "mimetype": "text/x-python",
   "name": "python",
   "nbconvert_exporter": "python",
   "pygments_lexer": "ipython3",
   "version": "3.6.6"
  }
 },
 "nbformat": 4,
 "nbformat_minor": 2
}

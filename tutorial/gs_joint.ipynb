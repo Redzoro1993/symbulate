{
 "cells": [
  {
   "cell_type": "markdown",
   "metadata": {},
   "source": [
    "# Getting Started with Symbulate\n",
    "\n",
    "## Section 3. Multiple Random Variables and Joint Distributions"
   ]
  },
  {
   "cell_type": "markdown",
   "metadata": {},
   "source": [
    "<[Random variables](gs_rv.ipynb) | [Contents](index.ipynb) | [Conditioning](gs_conditioning.ipynb)>"
   ]
  },
  {
   "cell_type": "markdown",
   "metadata": {},
   "source": [
    "**Every time you start Symbulate**, you must first run (SHIFT-ENTER) the following commands."
   ]
  },
  {
   "cell_type": "code",
   "execution_count": 1,
   "metadata": {
    "collapsed": true
   },
   "outputs": [],
   "source": [
    "from symbulate import *\n",
    "%matplotlib inline"
   ]
  },
  {
   "cell_type": "markdown",
   "metadata": {},
   "source": [
    "This section provides an introduction to the Symbulate commands for simulating and summarizing values of multiple random variables.\n",
    "\n",
    "We are often interested in several [RV](https://dlsun.github.io/symbulate/rv.html)s defined on  the same [probability space](https://dlsun.github.io/symbulate/probspace.html).  Of interest are properties of the [*joint distribution*](https://dlsun.github.io/symbulate/joint.html#Multiple-random-variables) which describe the relationship between the random variables."
   ]
  },
  {
   "cell_type": "markdown",
   "metadata": {},
   "source": [
    "<a id='coin_heads_alt'></a>\n",
    "### Example 3.1: The joint distribution of the number of Heads and the number of switches between Heads and Tails in coin flips"
   ]
  },
  {
   "cell_type": "markdown",
   "metadata": {},
   "source": [
    "Let `X` be the number of Heads in a sequence of five coin flips, and let `Y` be the number of times the sequence switches between Heads and Tails (not counting the first toss). For example, for the outcome (0, 1, 0, 0, 1), `X = 2` and since a switch occurs on the second, third, and fifth flip, `Y = 3`.  The code below defines the probability space and the two `RV`s. The `RV` `Y` is defined through a [user defined function](https://dlsun.github.io/symbulate/rv.html#Defining-a-random-variable-with-RV); see [Example 2.18](gs_rv.ipynb#Numb_distinct)."
   ]
  },
  {
   "cell_type": "code",
   "execution_count": 2,
   "metadata": {},
   "outputs": [
    {
     "name": "stdout",
     "output_type": "stream",
     "text": [
      "Warning: Calling an RV as a function simply applies the function that defines the RV to the input, regardless of whether the input is a valid outcome in the underlying probability space.\n",
      "Warning: Calling an RV as a function simply applies the function that defines the RV to the input, regardless of whether the input is a valid outcome in the underlying probability space.\n"
     ]
    },
    {
     "data": {
      "text/plain": [
       "(2, 3)"
      ]
     },
     "execution_count": 2,
     "metadata": {},
     "output_type": "execute_result"
    }
   ],
   "source": [
    "def number_switches(x):\n",
    "    count = 0\n",
    "    for i in list(range(1, len(x))):\n",
    "        if x[i] != x[i-1]:\n",
    "            count += 1\n",
    "    return count\n",
    "\n",
    "P = BoxModel([1, 0], size=5)\n",
    "X = RV(P, sum)\n",
    "Y = RV(P, number_switches)\n",
    "\n",
    "outcome = (0, 1, 0, 0, 1)\n",
    "X(outcome), Y(outcome)"
   ]
  },
  {
   "cell_type": "markdown",
   "metadata": {},
   "source": [
    "Each `RV` `X` and `Y` can be simulated individually as in [Section 2](gs_rv.ipynb).  Within the context of several random variables, the distribution of a single random variable is called its [marginal distribution](https://dlsun.github.io/symbulate/joint.html#marginal).  The plot below approximates the marginal distribution of `Y`, the number of switches between Heads and Tails in five coin flips.  Note that `Y` can take values 0, 1, 2, 3, 4."
   ]
  },
  {
   "cell_type": "code",
   "execution_count": 3,
   "metadata": {},
   "outputs": [
    {
     "data": {
      "image/png": "[encoded data removed]",
      "text/plain": [
       "<matplotlib.figure.Figure at 0x52bd358>"
      ]
     },
     "metadata": {},
     "output_type": "display_data"
    }
   ],
   "source": [
    "Y.sim(10000).plot()"
   ]
  },
  {
   "cell_type": "markdown",
   "metadata": {},
   "source": [
    "However, simulating values of `X` and `Y` individually does not provide any information about the *relationship* between the variables.  Joining `X` and `Y` with an ampersand [&](https://dlsun.github.io/symbulate/joint.html#ampersand)  and calling [`.sim()`](https://dlsun.github.io/symbulate/sim.html#sim) simultaneously simulates the pair of `(X, Y)` values for each simulated outcome.  The simulated results can be used to approximate the [joint distribution](https://dlsun.github.io/symbulate/joint.html#joint) of `X` and `Y` which describes the possible pairs of values and their relative likelihoods."
   ]
  },
  {
   "cell_type": "code",
   "execution_count": 4,
   "metadata": {},
   "outputs": [
    {
     "data": {
      "text/html": [
       "\n",
       "    <table>\n",
       "      <thead>\n",
       "        <th width=\"80%\">Outcome</th>\n",
       "        <th width=\"20%\">Value</th>\n",
       "      </thead>\n",
       "      <tbody>\n",
       "        <tr><td>(0, 0)</td><td>325</td></tr><tr><td>(1, 1)</td><td>638</td></tr><tr><td>(1, 2)</td><td>992</td></tr><tr><td>(2, 1)</td><td>628</td></tr><tr><td>(2, 2)</td><td>960</td></tr><tr><td>(2, 3)</td><td>1226</td></tr><tr><td>(2, 4)</td><td>299</td></tr><tr><td>(3, 1)</td><td>618</td></tr><tr><td>(3, 2)</td><td>891</td></tr><tr><td>(3, 3)</td><td>1282</td></tr><tr><td>(3, 4)</td><td>328</td></tr><tr><td>(4, 1)</td><td>606</td></tr><tr><td>(4, 2)</td><td>918</td></tr><tr><td>(5, 0)</td><td>289</td></tr><tr><td><b>Total</b></td><td><b>10000</b></td></tr>\n",
       "      </tbody>\n",
       "    </table>\n",
       "    "
      ],
      "text/plain": [
       "{(0, 0): 325,\n",
       " (1, 1): 638,\n",
       " (1, 2): 992,\n",
       " (2, 1): 628,\n",
       " (2, 2): 960,\n",
       " (2, 3): 1226,\n",
       " (2, 4): 299,\n",
       " (3, 1): 618,\n",
       " (3, 2): 891,\n",
       " (3, 3): 1282,\n",
       " (3, 4): 328,\n",
       " (4, 1): 606,\n",
       " (4, 2): 918,\n",
       " (5, 0): 289}"
      ]
     },
     "execution_count": 4,
     "metadata": {},
     "output_type": "execute_result"
    }
   ],
   "source": [
    "(X & Y).sim(10000).tabulate()"
   ]
  },
  {
   "cell_type": "markdown",
   "metadata": {},
   "source": [
    "Simulating `(X, Y)` pairs in this way, we can examine the relationship between the random variables `X` and `Y`.  For example, for an outcome with `X = 5` all five flips are Heads so no switches occur and it must be true that `Y = 0`.  For outcomes with `X = 4`, either `Y = 1` or `Y = 2`, with a value of 2 occuring more frequently. Thus while `Y` can marginally take values 0, 1, 2, 3, 4, only `Y = 0` is possible when `X = 5`, only `Y = 1` or `Y = 2` is possible when `X = 4`, and so on.  Also, for example, outcomes for which `X = 2` and `Y = 3` occur about four times as frequently as those for which `X = 5` and `Y = 0`."
   ]
  },
  {
   "cell_type": "markdown",
   "metadata": {},
   "source": [
    "<a id='sum_max_dice'></a>\n",
    "### Exercise 3.2: Joint distribution of the sum and the max of two dice rolls"
   ]
  },
  {
   "cell_type": "markdown",
   "metadata": {},
   "source": [
    "Roll two fair six-sided dice and let `X` be their sum and `Y` be the larger (`max`) of the two numbers rolled (or the common value if a tie).\n",
    "\n",
    "Define appropriate [`RV`](https://dlsun.github.io/symbulate/rv.html#RV)s and simulate 10000 `(X, Y)` pairs using [`&`](https://dlsun.github.io/symbulate/joint.html#ampersand) and [`sim()`](https://dlsun.github.io/symbulate/sim.html#sim). Tabulate the results."
   ]
  },
  {
   "cell_type": "code",
   "execution_count": 5,
   "metadata": {
    "collapsed": true
   },
   "outputs": [],
   "source": [
    "### Type your commands in this cell and then run using SHIFT-ENTER."
   ]
  },
  {
   "cell_type": "markdown",
   "metadata": {},
   "source": [
    "[Solution](#sol_sum_max_dice)"
   ]
  },
  {
   "cell_type": "markdown",
   "metadata": {},
   "source": [
    "<a id='visualizing'></a>\n",
    "### Example 3.3: Visualizing a joint distribution"
   ]
  },
  {
   "cell_type": "markdown",
   "metadata": {},
   "source": [
    "The simluated joint distribution in [Example 3.1](#coin_heads_alt) can be visualized by calling [`.plot()`](https://dlsun.github.io/symbulate/rv.html#plot). Calling [`.plot()`](https://dlsun.github.io/symbulate/rv.html#plot) for two discrete random variables returns a scatterplot of simulated `(X,Y)` pairs."
   ]
  },
  {
   "cell_type": "code",
   "execution_count": 6,
   "metadata": {},
   "outputs": [
    {
     "data": {
      "image/png": "[encoded data removed]",
      "text/plain": [
       "<matplotlib.figure.Figure at 0x90df748>"
      ]
     },
     "metadata": {},
     "output_type": "display_data"
    }
   ],
   "source": [
    "(X & Y).sim(10000).plot()"
   ]
  },
  {
   "cell_type": "markdown",
   "metadata": {},
   "source": [
    "For discrete random variables it is recommended to use the `jitter=True` option with scatterplots so that points do not overlap."
   ]
  },
  {
   "cell_type": "code",
   "execution_count": 7,
   "metadata": {},
   "outputs": [
    {
     "data": {
      "image/png": "[encoded data removed]",
      "text/plain": [
       "<matplotlib.figure.Figure at 0x4f119b0>"
      ]
     },
     "metadata": {},
     "output_type": "display_data"
    }
   ],
   "source": [
    "(X & Y).sim(10000).plot(type=\"scatter\", jitter=True)"
   ]
  },
  {
   "cell_type": "markdown",
   "metadata": {},
   "source": [
    "Using the `type=\"tile\"` option create a tile plot (a.k.a. heat map) where the color of each rectangle represents the relative frequency of the corresponding simulated `(X, Y)` pair ."
   ]
  },
  {
   "cell_type": "code",
   "execution_count": 8,
   "metadata": {},
   "outputs": [
    {
     "data": {
      "image/png": "[encoded data removed]",
      "text/plain": [
       "<matplotlib.figure.Figure at 0x94fc198>"
      ]
     },
     "metadata": {},
     "output_type": "display_data"
    }
   ],
   "source": [
    "(X & Y).sim(10000).plot(type='tile')"
   ]
  },
  {
   "cell_type": "markdown",
   "metadata": {},
   "source": [
    "<a id='plot_joint_sum_max'></a>\n",
    "### Exercise 3.4: Visualizing the joint distribution of the sum and the max of two dice rolls"
   ]
  },
  {
   "cell_type": "markdown",
   "metadata": {},
   "source": [
    "Continuing [Exercise 3.2](#sum_max_dice) let `X` be the sum and `Y` be the larger (`max`) of two rolls of a fair six-sided die.\n",
    "\n",
    "Simulate 10000 `(X, Y)` pairs using [`&`](https://dlsun.github.io/symbulate/joint.html#ampersand) and [`sim()`](https://dlsun.github.io/symbulate/sim.html#sim).  Display the approximate joint distribution with both a tile plot and scatterplot (with `jitter=true`).  "
   ]
  },
  {
   "cell_type": "code",
   "execution_count": 9,
   "metadata": {
    "collapsed": true
   },
   "outputs": [],
   "source": [
    "### Type your commands in this cell and then run using SHIFT-ENTER."
   ]
  },
  {
   "cell_type": "markdown",
   "metadata": {},
   "source": [
    "[Solution](#sol_plot_joint_sum_max)"
   ]
  },
  {
   "cell_type": "markdown",
   "metadata": {},
   "source": [
    "<a id='indep_var'></a>\n",
    "### Example 3.5: Defining independent random variables"
   ]
  },
  {
   "cell_type": "markdown",
   "metadata": {},
   "source": [
    "Random variables `X` and `Y` are [*independent*](https://dlsun.github.io/symbulate/joint.html#def_ind_ran) if knowing information about the value of one does not influence the distribution of the other.  For independent random variables, their joint distribution is the *product* of the respective marginal distributions.\n",
    "\n",
    "For example, let `X` represent the number of Heads in two flips of a fair coin, and let `Y` represent the number of 1s rolled in three rolls of a fair six-sided die."
   ]
  },
  {
   "cell_type": "code",
   "execution_count": 10,
   "metadata": {
    "collapsed": true
   },
   "outputs": [],
   "source": [
    "Flips = BoxModel([1, 0], size=2)\n",
    "X = RV(Flips, sum)\n",
    "\n",
    "Rolls = BoxModel([1, 0], probs=[1/6, 5/6], size=3)  # 1 = roll 1; 0 = do not roll 1\n",
    "Y = RV(Rolls, sum)"
   ]
  },
  {
   "cell_type": "markdown",
   "metadata": {},
   "source": [
    "The flips of the coin and the rolls of the die are physically independent so it is safe to assume that the random variables `X` and `Y` are independent.  The  [`AssumeIndependent`](https://dlsun.github.io/symbulate/joint.html#Defining-independent-random-variables) command below tells Symbulate to treat the random variables `X` and `Y` as independent."
   ]
  },
  {
   "cell_type": "code",
   "execution_count": 11,
   "metadata": {
    "collapsed": true
   },
   "outputs": [],
   "source": [
    "X, Y = AssumeIndependent(X, Y)"
   ]
  },
  {
   "cell_type": "markdown",
   "metadata": {},
   "source": [
    "When pairs of independent random variables are simulated, the values of one variable are generated independently of the values of the other."
   ]
  },
  {
   "cell_type": "code",
   "execution_count": 12,
   "metadata": {},
   "outputs": [
    {
     "data": {
      "text/html": [
       "\n",
       "    <table>\n",
       "      <thead>\n",
       "        <th width=\"80%\">Outcome</th>\n",
       "        <th width=\"20%\">Value</th>\n",
       "      </thead>\n",
       "      <tbody>\n",
       "        <tr><td>(0, 0)</td><td>1428</td></tr><tr><td>(0, 1)</td><td>879</td></tr><tr><td>(0, 2)</td><td>178</td></tr><tr><td>(0, 3)</td><td>16</td></tr><tr><td>(1, 0)</td><td>2816</td></tr><tr><td>(1, 1)</td><td>1741</td></tr><tr><td>(1, 2)</td><td>342</td></tr><tr><td>(1, 3)</td><td>22</td></tr><tr><td>(2, 0)</td><td>1503</td></tr><tr><td>(2, 1)</td><td>888</td></tr><tr><td>(2, 2)</td><td>171</td></tr><tr><td>(2, 3)</td><td>16</td></tr><tr><td><b>Total</b></td><td><b>10000</b></td></tr>\n",
       "      </tbody>\n",
       "    </table>\n",
       "    "
      ],
      "text/plain": [
       "{(0, 0): 1428,\n",
       " (0, 1): 879,\n",
       " (0, 2): 178,\n",
       " (0, 3): 16,\n",
       " (1, 0): 2816,\n",
       " (1, 1): 1741,\n",
       " (1, 2): 342,\n",
       " (1, 3): 22,\n",
       " (2, 0): 1503,\n",
       " (2, 1): 888,\n",
       " (2, 2): 171,\n",
       " (2, 3): 16}"
      ]
     },
     "execution_count": 12,
     "metadata": {},
     "output_type": "execute_result"
    }
   ],
   "source": [
    "(X & Y).sim(10000).tabulate()"
   ]
  },
  {
   "cell_type": "markdown",
   "metadata": {},
   "source": [
    "For example, the joint probability `P(X = 1, Y = 2)`, which is about 0.035, is equal to the product of the marginal probabilities `P(X = 1)` and `P(Y = 2)`, as approximated in the following code."
   ]
  },
  {
   "cell_type": "code",
   "execution_count": 13,
   "metadata": {},
   "outputs": [
    {
     "data": {
      "text/plain": [
       "0.034568140000000004"
      ]
     },
     "execution_count": 13,
     "metadata": {},
     "output_type": "execute_result"
    }
   ],
   "source": [
    "(X.sim(10000).count_eq(1) / 10000) * (Y.sim(10000).count_eq(2) / 10000)"
   ]
  },
  {
   "cell_type": "markdown",
   "metadata": {},
   "source": [
    "<a id='#assume_indep'></a>\n",
    "### Exercise 3.6: Using `AssumeIndependent` for defining independent random variables"
   ]
  },
  {
   "cell_type": "markdown",
   "metadata": {},
   "source": [
    "Let `X` be the number of heads in five flips of a fair coin and `Y` be the sum of two rolls of a fair six-sided die. Define appropriate [`RV`](https://dlsun.github.io/symbulate/rv.html#RV)s, and assume independence with the `AssumeIndependent()` function. Simulate 10000 `(X, Y)` pairs and plot the approximate joint distribution."
   ]
  },
  {
   "cell_type": "code",
   "execution_count": 14,
   "metadata": {
    "collapsed": true
   },
   "outputs": [],
   "source": [
    "### Type your commands in this cell and then run using SHIFT-ENTER."
   ]
  },
  {
   "cell_type": "markdown",
   "metadata": {},
   "source": [
    "[Solution](#sol_assume_indep)"
   ]
  },
  {
   "cell_type": "markdown",
   "metadata": {},
   "source": [
    "<a id='indep_var_via_dist'></a>\n",
    "### Example 3.7: Defining independent random variables via distributions"
   ]
  },
  {
   "cell_type": "markdown",
   "metadata": {},
   "source": [
    "We have seen that it is common to [define a random variable via its distribution](https://dlsun.github.io/symbulate/rv.html#distribution), as in [Example 2.7](gs_rv.ipynb#sim_from_binom).  When dealing with multiple random variables it is common to specify the marginal distribution of each and assume independence.  In [Example 3.5](#indep_var), the marginal distribution of `X` is [`Binomial`](https://dlsun.github.io/symbulate/common_discrete.html#binomial) with `n=2` and `p=0.5` while the marginal distribution of `Y` is [`Binomial`](https://dlsun.github.io/symbulate/common_discrete.html#binomial) with `n=3` and `p=1/6`.   Independence of distributions is represented by the asterisks [`*`](https://dlsun.github.io/symbulate/joint.html#def_ind_ran) (reflecting that under independence the joint distribution is the *product* of the respective marginal distributions.)"
   ]
  },
  {
   "cell_type": "code",
   "execution_count": 15,
   "metadata": {},
   "outputs": [
    {
     "data": {
      "text/html": [
       "\n",
       "    <table>\n",
       "      <thead>\n",
       "        <th width=\"80%\">Outcome</th>\n",
       "        <th width=\"20%\">Value</th>\n",
       "      </thead>\n",
       "      <tbody>\n",
       "        <tr><td>(0, 0)</td><td>1380</td></tr><tr><td>(0, 1)</td><td>922</td></tr><tr><td>(0, 2)</td><td>176</td></tr><tr><td>(0, 3)</td><td>8</td></tr><tr><td>(1, 0)</td><td>2854</td></tr><tr><td>(1, 1)</td><td>1745</td></tr><tr><td>(1, 2)</td><td>337</td></tr><tr><td>(1, 3)</td><td>22</td></tr><tr><td>(2, 0)</td><td>1480</td></tr><tr><td>(2, 1)</td><td>901</td></tr><tr><td>(2, 2)</td><td>160</td></tr><tr><td>(2, 3)</td><td>15</td></tr><tr><td><b>Total</b></td><td><b>10000</b></td></tr>\n",
       "      </tbody>\n",
       "    </table>\n",
       "    "
      ],
      "text/plain": [
       "{(0, 0): 1380,\n",
       " (0, 1): 922,\n",
       " (0, 2): 176,\n",
       " (0, 3): 8,\n",
       " (1, 0): 2854,\n",
       " (1, 1): 1745,\n",
       " (1, 2): 337,\n",
       " (1, 3): 22,\n",
       " (2, 0): 1480,\n",
       " (2, 1): 901,\n",
       " (2, 2): 160,\n",
       " (2, 3): 15}"
      ]
     },
     "execution_count": 15,
     "metadata": {},
     "output_type": "execute_result"
    }
   ],
   "source": [
    "X, Y = RV(Binomial(n=2, p=0.5) * Binomial(n=3, p=1/6))\n",
    "(X & Y).sim(10000).tabulate()"
   ]
  },
  {
   "cell_type": "markdown",
   "metadata": {},
   "source": [
    "Random variables are \"independent and identically distribution (i.i.d.)\" when they are independent and have a common marginal distribution.  For example, if `V` represents the number of heads in two flips of a penny and `W` the number of Heads in two flips of a dime, then `V` and `W` are i.i.d., with a common marginal `Binomial(n=2, p=0.5)` distribution.  For i.i.d. random variables, defining the joint distribution using the \"exponentiation\" notation [`**`](https://dlsun.github.io/symbulate/probspace.html#Independent-probability-spaces) makes the code a little more compact."
   ]
  },
  {
   "cell_type": "code",
   "execution_count": 16,
   "metadata": {
    "collapsed": true
   },
   "outputs": [],
   "source": [
    "V, W = RV(Binomial(n=2, p=0.5) ** 2)"
   ]
  },
  {
   "cell_type": "markdown",
   "metadata": {},
   "source": [
    "<a id='indep_via_unif'></a>\n",
    "### Exercise 3.8: Defining independent random variables"
   ]
  },
  {
   "cell_type": "markdown",
   "metadata": {},
   "source": [
    "Let `X` be a random variable with a `Binomial(n=4, p=0.25)` distribution, and let `Y` be a random variable with a `Binomial(n=3, p=0.7)` distribution. Use [`*`](https://dlsun.github.io/symbulate/probspace.html#indep) to specify the joint distribution of the `RV`s `X` and `Y` as the product of their marginal distributions. Simulate 10000 `(X,Y)` pairs and approximate the joint distribution."
   ]
  },
  {
   "cell_type": "code",
   "execution_count": 17,
   "metadata": {
    "collapsed": true
   },
   "outputs": [],
   "source": [
    "### Type your commands in this cell and then run using SHIFT-ENTER."
   ]
  },
  {
   "cell_type": "markdown",
   "metadata": {},
   "source": [
    "[Solution](#sol_indep_via_unif)"
   ]
  },
  {
   "cell_type": "markdown",
   "metadata": {},
   "source": [
    "<a id='sum_indep_unif'></a>\n",
    "### Example 3.9: Sum of independent RVs"
   ]
  },
  {
   "cell_type": "markdown",
   "metadata": {},
   "source": [
    "In [Example 2.16](gs_rv.ipynb#sqrt_ex) we introduced [transformations of random variables](https://dlsun.github.io/symbulate/joint.html#Transformations-of-random-variables). It is often of interest to look at a transformation of multiple random variables. Transformations of random variables such as addition, subtraction, etc. are only possible when the random variables are defined on the same probability space.\n",
    "\n",
    "For example, assume that `X` and `Y` are independent and that each of `X` and `Y` has a marginal Uniform distribution on [0, 1].  Define the random variable `Z = X + Y`, the sum of two independent RVs `X` and `Y`."
   ]
  },
  {
   "cell_type": "code",
   "execution_count": 18,
   "metadata": {},
   "outputs": [
    {
     "data": {
      "image/png": "[encoded data removed]",
      "text/plain": [
       "<matplotlib.figure.Figure at 0x95ee5c0>"
      ]
     },
     "metadata": {},
     "output_type": "display_data"
    }
   ],
   "source": [
    "X, Y = RV(Uniform(0, 1) * Uniform(0,1))\n",
    "Z = X + Y\n",
    "Z.sim(10000).plot()"
   ]
  },
  {
   "cell_type": "markdown",
   "metadata": {},
   "source": [
    "Notice that `Z` takes values in the interval [0, 2], but `Z` does not have a Uniform distribution. Intuitively, there is only one `(X, Y)` pair, (0, 0), for which the sum is 0, but many  `(X, Y)` pairs - (1, 0), (0, 1), (0.5, 0.5), (0.8, 0.2), etc - for which the sum is 1."
   ]
  },
  {
   "cell_type": "markdown",
   "metadata": {},
   "source": [
    "<a id='prod_indep'></a>\n",
    "### Exercise 3.10: Product of independent RVs"
   ]
  },
  {
   "cell_type": "markdown",
   "metadata": {},
   "source": [
    "Let `X` represent the base (inches) and `Y` the height (inches) of a \"random rectangle\".  Assume that `X` and `Y` are independent, and that `X` has a `Uniform(2, 5)` distribution and `Y` has a `Uniform(1, 3)` distribution. Let `Z = X * Y` represent the area of the rectangle. Simulate 10000 values of `Z` and display its approximate distribution in a plot."
   ]
  },
  {
   "cell_type": "code",
   "execution_count": 19,
   "metadata": {
    "collapsed": true
   },
   "outputs": [],
   "source": [
    "### Type your commands in this cell and then run using SHIFT-ENTER."
   ]
  },
  {
   "cell_type": "markdown",
   "metadata": {},
   "source": [
    "[Solution](#sol_prod_indep)"
   ]
  },
  {
   "cell_type": "markdown",
   "metadata": {},
   "source": [
    "<a id='corr_numb_alt'></a>\n",
    "### Example 3.11: Correlation between random variables"
   ]
  },
  {
   "cell_type": "markdown",
   "metadata": {},
   "source": [
    "The strength of the relationship between two random variables can be estimated with the *correlation coefficient* of the simulated pairs using [`.corr()`](https://dlsun.github.io/symbulate/joint.html#corr). For example, let `X` represent the number of Heads in two flips of a penny and let `Y` represent the number of Heads in three flips of a dime. Then `Z = X + Y` is the total number of Heads in the five flips.  The following code simulates many `(X, Z)` pairs and estimates their correlation"
   ]
  },
  {
   "cell_type": "code",
   "execution_count": 20,
   "metadata": {},
   "outputs": [
    {
     "data": {
      "text/plain": [
       "0.62391912655346593"
      ]
     },
     "execution_count": 20,
     "metadata": {},
     "output_type": "execute_result"
    },
    {
     "data": {
      "image/png": "[encoded data removed]",
      "text/plain": [
       "<matplotlib.figure.Figure at 0x97b1cf8>"
      ]
     },
     "metadata": {},
     "output_type": "display_data"
    }
   ],
   "source": [
    "X, Y = RV(Binomial(n=2, p=0.5) * Binomial(n=3, p=0.5))\n",
    "Z = X + Y\n",
    "xz = (X & Z).sim(10000)\n",
    "xz.plot(jitter=True)\n",
    "xz.corr()"
   ]
  },
  {
   "cell_type": "markdown",
   "metadata": {},
   "source": [
    "The positive correlation coefficient of about 0.6 represents a *positive associaton*: above average values of `X` tend to be associated with above average values of `Z`; likewise for below average values.\n",
    "\n",
    "If two random variables are independent, then there is no association between them and so their correlation coefficient is 0."
   ]
  },
  {
   "cell_type": "code",
   "execution_count": 21,
   "metadata": {},
   "outputs": [
    {
     "data": {
      "text/plain": [
       "0.0015762630316967193"
      ]
     },
     "execution_count": 21,
     "metadata": {},
     "output_type": "execute_result"
    },
    {
     "data": {
      "image/png": "[encoded data removed]",
      "text/plain": [
       "<matplotlib.figure.Figure at 0x96e5a58>"
      ]
     },
     "metadata": {},
     "output_type": "display_data"
    }
   ],
   "source": [
    "xy = (X & Y).sim(10000)\n",
    "xy.plot(jitter=True)\n",
    "xy.corr()"
   ]
  },
  {
   "cell_type": "markdown",
   "metadata": {},
   "source": [
    "However, a correlation coefficient of 0 does not necessarily imply that random variables are independent.  Correlation measures a particular kind of relationship, namely, how strong is the *linear association* between two random variables?  That is, how closely do the $(x, y)$ pairs tend to follow a straight line?\n",
    "\n",
    "Consider [Example 3.1](#coin_heads_alt): `X` is the number of Heads in a sequence of five coin flips, and `Y` is the number of times the sequence switches between Heads and Tails (not counting the first toss).  Then `X` and `Y` are *not* independent.  For example, if `X=0` then it must be true that `Y=0`.  However, the correlation coefficient between `X` and `Y` is 0."
   ]
  },
  {
   "cell_type": "code",
   "execution_count": 22,
   "metadata": {},
   "outputs": [
    {
     "data": {
      "text/plain": [
       "0.013263919554291757"
      ]
     },
     "execution_count": 22,
     "metadata": {},
     "output_type": "execute_result"
    },
    {
     "data": {
      "image/png": "[encoded data removed]",
      "text/plain": [
       "<matplotlib.figure.Figure at 0x6449160>"
      ]
     },
     "metadata": {},
     "output_type": "display_data"
    }
   ],
   "source": [
    "def number_switches(x):\n",
    "    count = 0\n",
    "    for i in list(range(1, len(x))):\n",
    "        if x[i] != x[i-1]:\n",
    "            count += 1\n",
    "    return count\n",
    "\n",
    "P = BoxModel([1, 0], size=5)\n",
    "X = RV(P, sum)\n",
    "Y = RV(P, number_switches)\n",
    "xy = (X & Y).sim(10000)\n",
    "xy.plot(jitter = True)\n",
    "xy.corr()"
   ]
  },
  {
   "cell_type": "markdown",
   "metadata": {},
   "source": [
    "<a id='corr_sum_max'></a>\n",
    "### Exercise 3.12: Correlation between the sum and the max of two dice"
   ]
  },
  {
   "cell_type": "markdown",
   "metadata": {},
   "source": [
    "Continuing [Exercise 3.2](#sum_max_dice), display the approximate joint distribution of `X` and `Y`, the sum and the max, respectively, of two fair six-sided dice rolls, and estimate the correlation coefficient."
   ]
  },
  {
   "cell_type": "code",
   "execution_count": 23,
   "metadata": {
    "collapsed": true
   },
   "outputs": [],
   "source": [
    "### Type your commands in this cell and then run using SHIFT-ENTER."
   ]
  },
  {
   "cell_type": "markdown",
   "metadata": {},
   "source": [
    "[Solution](#sol_corr_sum_max)"
   ]
  },
  {
   "cell_type": "markdown",
   "metadata": {},
   "source": [
    "[Back to Contents](#contents)"
   ]
  },
  {
   "cell_type": "markdown",
   "metadata": {},
   "source": [
    "## Additional Exercises"
   ]
  },
  {
   "cell_type": "markdown",
   "metadata": {},
   "source": [
    "<a id='ratio_max_sum'></a>\n",
    "### Exercise 3.13: Ratio of max and sum of two six-sided dice"
   ]
  },
  {
   "cell_type": "markdown",
   "metadata": {},
   "source": [
    "Define Z as the ratio between the larger of two six-sided dice rolls and the sum of two six-sided dice rolls. Approximate the distribution of Z and estimate `P(Z <= 1.5)`, the probability that the ratio is less than or equal to 0.7."
   ]
  },
  {
   "cell_type": "code",
   "execution_count": 24,
   "metadata": {
    "collapsed": true
   },
   "outputs": [],
   "source": [
    "### Type your commands in this cell and then run using SHIFT-ENTER."
   ]
  },
  {
   "cell_type": "markdown",
   "metadata": {},
   "source": [
    "[Hint](#hint_ratio_max_sum)"
   ]
  },
  {
   "cell_type": "markdown",
   "metadata": {},
   "source": [
    "[Solution](#sol_ratio_max_sum)"
   ]
  },
  {
   "cell_type": "markdown",
   "metadata": {},
   "source": [
    "<a id='est_corr_unpack'></a>\n",
    "### Exercise 3.14: Estimating correlation and plotting joint distributions"
   ]
  },
  {
   "cell_type": "markdown",
   "metadata": {},
   "source": [
    "Suppose X is Uniform(0,2) and Y is Uniform(1,3). Define Z to be equal to X + Y (assuming X and Y are independent).\n",
    "\n",
    "1) Estimate the correlation coefficient between X and Z. "
   ]
  },
  {
   "cell_type": "code",
   "execution_count": 25,
   "metadata": {
    "collapsed": true
   },
   "outputs": [],
   "source": [
    "### Type your commands in this cell and then run using SHIFT-ENTER."
   ]
  },
  {
   "cell_type": "markdown",
   "metadata": {},
   "source": [
    "2) Approximate the joint distribution of X and Z."
   ]
  },
  {
   "cell_type": "code",
   "execution_count": 26,
   "metadata": {
    "collapsed": true
   },
   "outputs": [],
   "source": [
    "### Type your commands in this cell and then run using SHIFT-ENTER."
   ]
  },
  {
   "cell_type": "markdown",
   "metadata": {},
   "source": [
    "[Hint](#hint_est_corr_unpack)"
   ]
  },
  {
   "cell_type": "markdown",
   "metadata": {},
   "source": [
    "[Solution](#sol_est_corr_unpack)"
   ]
  },
  {
   "cell_type": "markdown",
   "metadata": {},
   "source": [
    "<a id='Hints'></a>\n",
    "## Hints for Additional Exercises"
   ]
  },
  {
   "cell_type": "markdown",
   "metadata": {},
   "source": [
    "<a id='hint_ratio_max_sum'></a>\n",
    "## Exercise 3.13: Hint"
   ]
  },
  {
   "cell_type": "markdown",
   "metadata": {},
   "source": [
    "In [Exercise 3.2](#sum_max_dice) you simulated the sum and max of two dice. In [Exercise 3.10](prod_indep) you simulated the product of two random variables. Use a [`count`](https://dlsun.github.io/symbulate/sim.html#count) function to estimate `P(Z <= 1.5)`."
   ]
  },
  {
   "cell_type": "markdown",
   "metadata": {},
   "source": [
    "[Back](#ratio_max_sum)"
   ]
  },
  {
   "cell_type": "markdown",
   "metadata": {},
   "source": [
    "<a id='hint_est_corr_unpack'></a>\n",
    "## Exercise 3.14: Hint"
   ]
  },
  {
   "cell_type": "markdown",
   "metadata": {},
   "source": [
    "In [Example 3.11](#corr_numb_alt) we estimated the correlation coefficient between two random variables and plotted the joint distribution. In [Example 3.9](#sum_indep_unif) we defined a random variable as the sum of two other independent variables."
   ]
  },
  {
   "cell_type": "markdown",
   "metadata": {},
   "source": [
    "[Back](#est_corr_unpack)"
   ]
  },
  {
   "cell_type": "markdown",
   "metadata": {},
   "source": [
    "[Back to Contents](#contents)"
   ]
  },
  {
   "cell_type": "markdown",
   "metadata": {},
   "source": [
    "## Solutions to Exercises"
   ]
  },
  {
   "cell_type": "markdown",
   "metadata": {},
   "source": [
    "<a id ='sol_sum_max_dice'></a>\n",
    "### Exercise 3.2: Solution"
   ]
  },
  {
   "cell_type": "code",
   "execution_count": 27,
   "metadata": {
    "scrolled": true
   },
   "outputs": [
    {
     "data": {
      "text/html": [
       "\n",
       "    <table>\n",
       "      <thead>\n",
       "        <th width=\"80%\">Outcome</th>\n",
       "        <th width=\"20%\">Value</th>\n",
       "      </thead>\n",
       "      <tbody>\n",
       "        <tr><td>(2, 1)</td><td>280</td></tr><tr><td>(3, 2)</td><td>536</td></tr><tr><td>(4, 2)</td><td>259</td></tr><tr><td>(4, 3)</td><td>514</td></tr><tr><td>(5, 3)</td><td>538</td></tr><tr><td>(5, 4)</td><td>570</td></tr><tr><td>(6, 3)</td><td>284</td></tr><tr><td>(6, 4)</td><td>556</td></tr><tr><td>(6, 5)</td><td>546</td></tr><tr><td>(7, 4)</td><td>534</td></tr><tr><td>(7, 5)</td><td>579</td></tr><tr><td>(7, 6)</td><td>565</td></tr><tr><td>(8, 4)</td><td>284</td></tr><tr><td>(8, 5)</td><td>624</td></tr><tr><td>(8, 6)</td><td>555</td></tr><tr><td>(9, 5)</td><td>550</td></tr><tr><td>(9, 6)</td><td>539</td></tr><tr><td>(10, 5)</td><td>295</td></tr><tr><td>(10, 6)</td><td>570</td></tr><tr><td>...</td><td>...</td></tr><tr><td>(12, 6)</td><td>297</td></tr><tr><td><b>Total</b></td><td><b>10000</b></td></tr>\n",
       "      </tbody>\n",
       "    </table>\n",
       "    "
      ],
      "text/plain": [
       "{(2, 1): 280,\n",
       " (3, 2): 536,\n",
       " (4, 2): 259,\n",
       " (4, 3): 514,\n",
       " (5, 3): 538,\n",
       " (5, 4): 570,\n",
       " (6, 3): 284,\n",
       " (6, 4): 556,\n",
       " (6, 5): 546,\n",
       " (7, 4): 534,\n",
       " (7, 5): 579,\n",
       " (7, 6): 565,\n",
       " (8, 4): 284,\n",
       " (8, 5): 624,\n",
       " (8, 6): 555,\n",
       " (9, 5): 550,\n",
       " (9, 6): 539,\n",
       " (10, 5): 295,\n",
       " (10, 6): 570,\n",
       " (11, 6): 525,\n",
       " (12, 6): 297}"
      ]
     },
     "execution_count": 27,
     "metadata": {},
     "output_type": "execute_result"
    }
   ],
   "source": [
    "P = BoxModel([1, 2, 3, 4, 5, 6], size=2)\n",
    "X = RV(P, sum)\n",
    "Y = RV(P, max)\n",
    "(X & Y).sim(10000).tabulate()"
   ]
  },
  {
   "cell_type": "markdown",
   "metadata": {},
   "source": [
    "[Back](#visualizing)"
   ]
  },
  {
   "cell_type": "markdown",
   "metadata": {},
   "source": [
    "<a id='sol_plot_joint_sum_max'></a>\n",
    "### Exercise 3.4: Solution"
   ]
  },
  {
   "cell_type": "code",
   "execution_count": 28,
   "metadata": {
    "scrolled": true
   },
   "outputs": [
    {
     "data": {
      "image/png": "[encoded data removed]",
      "text/plain": [
       "<matplotlib.figure.Figure at 0x9586438>"
      ]
     },
     "metadata": {},
     "output_type": "display_data"
    }
   ],
   "source": [
    "P = BoxModel([1, 2, 3, 4, 5, 6], size=2)\n",
    "X = RV(P, sum)\n",
    "Y = RV(P, max)\n",
    "(X & Y).sim(10000).plot(type=\"tile\")"
   ]
  },
  {
   "cell_type": "code",
   "execution_count": 29,
   "metadata": {
    "scrolled": true
   },
   "outputs": [
    {
     "data": {
      "image/png": "[encoded data removed]",
      "text/plain": [
       "<matplotlib.figure.Figure at 0x913dcc0>"
      ]
     },
     "metadata": {},
     "output_type": "display_data"
    }
   ],
   "source": [
    "(X & Y).sim(10000).plot(type=\"scatter\", jitter=True)"
   ]
  },
  {
   "cell_type": "markdown",
   "metadata": {},
   "source": [
    "[Back](#indep_var)"
   ]
  },
  {
   "cell_type": "markdown",
   "metadata": {},
   "source": [
    "<a id ='sol_assume_indep'></a>\n",
    "### Exercise 3.6: Solution"
   ]
  },
  {
   "cell_type": "code",
   "execution_count": 30,
   "metadata": {},
   "outputs": [
    {
     "data": {
      "image/png": "[encoded data removed]",
      "text/plain": [
       "<matplotlib.figure.Figure at 0x43204e0>"
      ]
     },
     "metadata": {},
     "output_type": "display_data"
    }
   ],
   "source": [
    "P = BoxModel([1, 0], size=5)\n",
    "X = RV(P, sum)\n",
    "\n",
    "Q = BoxModel([1, 2, 3, 4, 5, 6], size=2)\n",
    "Y = RV(Q, sum)\n",
    "\n",
    "X, Y = AssumeIndependent(X, Y)\n",
    "(X & Y).sim(10000).plot(jitter='True')"
   ]
  },
  {
   "cell_type": "markdown",
   "metadata": {},
   "source": [
    "[Back](#indep_var_via_dist)"
   ]
  },
  {
   "cell_type": "markdown",
   "metadata": {},
   "source": [
    "<a id ='sol_indep_via_unif'></a>\n",
    "### Exercise 3.8: Solution"
   ]
  },
  {
   "cell_type": "code",
   "execution_count": 31,
   "metadata": {},
   "outputs": [
    {
     "data": {
      "image/png": "[encoded data removed]",
      "text/plain": [
       "<matplotlib.figure.Figure at 0x97164a8>"
      ]
     },
     "metadata": {},
     "output_type": "display_data"
    }
   ],
   "source": [
    "X, Y = RV(Binomial(n=4, p=0.25) * Binomial(n=3, p=0.7))\n",
    "(X & Y).sim(10000).plot(\"tile\")"
   ]
  },
  {
   "cell_type": "markdown",
   "metadata": {},
   "source": [
    "[Back](#sum_indep_unif)"
   ]
  },
  {
   "cell_type": "markdown",
   "metadata": {},
   "source": [
    "<a id ='sol_prod_indep'></a>\n",
    "### Exercise 3.10: Solution"
   ]
  },
  {
   "cell_type": "code",
   "execution_count": 32,
   "metadata": {},
   "outputs": [
    {
     "data": {
      "image/png": "[encoded data removed]",
      "text/plain": [
       "<matplotlib.figure.Figure at 0x96c40b8>"
      ]
     },
     "metadata": {},
     "output_type": "display_data"
    }
   ],
   "source": [
    "X, Y = RV(Uniform(a=2, b=5) * Uniform(a=1, b=3))\n",
    "Z = X * Y\n",
    "Z.sim(10000).plot()"
   ]
  },
  {
   "cell_type": "markdown",
   "metadata": {},
   "source": [
    "Note that `Z` takes values in the interval `[2 * 1, 5 * 3]` but some values have greater density than others."
   ]
  },
  {
   "cell_type": "markdown",
   "metadata": {},
   "source": [
    "[Back](#corr_numb_alt)"
   ]
  },
  {
   "cell_type": "markdown",
   "metadata": {},
   "source": [
    "<a id ='sol_corr_sum_max'></a>\n",
    "### Exercise 3.12: Solution"
   ]
  },
  {
   "cell_type": "code",
   "execution_count": 33,
   "metadata": {},
   "outputs": [
    {
     "data": {
      "text/plain": [
       "0.85914627467851412"
      ]
     },
     "execution_count": 33,
     "metadata": {},
     "output_type": "execute_result"
    },
    {
     "data": {
      "image/png": "[encoded data removed]",
      "text/plain": [
       "<matplotlib.figure.Figure at 0xa1b92e8>"
      ]
     },
     "metadata": {},
     "output_type": "display_data"
    }
   ],
   "source": [
    "P = BoxModel([1, 2, 3, 4, 5, 6], size=2)\n",
    "X = RV(P, sum)\n",
    "Y = RV(P, max)\n",
    "xy = (X & Y).sim(10000)\n",
    "xy.plot(jitter=True)\n",
    "xy.corr()"
   ]
  },
  {
   "cell_type": "markdown",
   "metadata": {},
   "source": [
    "[Back](#bivariate)"
   ]
  },
  {
   "cell_type": "markdown",
   "metadata": {},
   "source": [
    "<a id ='sol_ratio_max_sum'></a>\n",
    "### Exercise 3.13: Solution"
   ]
  },
  {
   "cell_type": "code",
   "execution_count": 34,
   "metadata": {},
   "outputs": [
    {
     "data": {
      "text/plain": [
       "0.6681"
      ]
     },
     "execution_count": 34,
     "metadata": {},
     "output_type": "execute_result"
    },
    {
     "data": {
      "image/png": "[encoded data removed]",
      "text/plain": [
       "<matplotlib.figure.Figure at 0x916d278>"
      ]
     },
     "metadata": {},
     "output_type": "display_data"
    }
   ],
   "source": [
    "P = BoxModel([1, 2, 3, 4, 5, 6], size=2)\n",
    "X = RV(P, sum)\n",
    "Y = RV(P, max)\n",
    "Z = Y / X\n",
    "sims = Z.sim(10000)\n",
    "sims.plot()\n",
    "sims.count_leq(0.7)/10000"
   ]
  },
  {
   "cell_type": "markdown",
   "metadata": {},
   "source": [
    "[Back](#est_corr_unpack)"
   ]
  },
  {
   "cell_type": "markdown",
   "metadata": {},
   "source": [
    "<a id ='sol_est_corr_unpack'></a>\n",
    "### Exercise 3.14: Solution"
   ]
  },
  {
   "cell_type": "markdown",
   "metadata": {
    "collapsed": true
   },
   "source": [
    "1) Estimate the correlation coefficient between X and Z."
   ]
  },
  {
   "cell_type": "code",
   "execution_count": 35,
   "metadata": {},
   "outputs": [
    {
     "data": {
      "text/plain": [
       "0.71650633289507204"
      ]
     },
     "execution_count": 35,
     "metadata": {},
     "output_type": "execute_result"
    }
   ],
   "source": [
    "X, Y = RV(Uniform(0, 2) * Uniform(1, 3))\n",
    "Z = X + Y\n",
    "(X & Z).sim(10000).corr()"
   ]
  },
  {
   "cell_type": "markdown",
   "metadata": {},
   "source": [
    "2) Approximate the joint distribution of X and Z."
   ]
  },
  {
   "cell_type": "code",
   "execution_count": 36,
   "metadata": {},
   "outputs": [
    {
     "data": {
      "image/png": "[encoded data removed]",
      "text/plain": [
       "<matplotlib.figure.Figure at 0x95b42e8>"
      ]
     },
     "metadata": {},
     "output_type": "display_data"
    }
   ],
   "source": [
    "(X & Z).sim(10000).plot()"
   ]
  },
  {
   "cell_type": "markdown",
   "metadata": {},
   "source": [
    "[Back](#Hints)"
   ]
  },
  {
   "cell_type": "markdown",
   "metadata": {},
   "source": [
    "<[Random variables](gs_rv.ipynb) | [Contents](index.ipynb) | [Conditioning](gs_conditioning.ipynb)>"
   ]
  },
  {
   "cell_type": "code",
   "execution_count": null,
   "metadata": {
    "collapsed": true
   },
   "outputs": [],
   "source": []
  }
 ],
 "metadata": {
  "kernelspec": {
   "display_name": "Python 3",
   "language": "python",
   "name": "python3"
  },
  "language_info": {
   "codemirror_mode": {
    "name": "ipython",
    "version": 3
   },
   "file_extension": ".py",
   "mimetype": "text/x-python",
   "name": "python",
   "nbconvert_exporter": "python",
   "pygments_lexer": "ipython3",
   "version": "3.6.1"
  }
 },
 "nbformat": 4,
 "nbformat_minor": 2
}
